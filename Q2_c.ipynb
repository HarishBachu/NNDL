{
 "cells": [
  {
   "cell_type": "code",
   "execution_count": 1,
   "id": "693ebc4c",
   "metadata": {},
   "outputs": [],
   "source": [
    "import pandas as pd\n",
    "import numpy as np\n",
    "import matplotlib.pyplot as plt\n",
    "import seaborn as sb"
   ]
  },
  {
   "cell_type": "code",
   "execution_count": 2,
   "id": "8922e22a",
   "metadata": {},
   "outputs": [],
   "source": [
    "df = pd.read_csv('Cancer_data.csv')"
   ]
  },
  {
   "cell_type": "code",
   "execution_count": 3,
   "id": "4fcc164a",
   "metadata": {},
   "outputs": [
    {
     "data": {
      "text/plain": [
       "B    357\n",
       "M    212\n",
       "Name: diagnosis, dtype: int64"
      ]
     },
     "execution_count": 3,
     "metadata": {},
     "output_type": "execute_result"
    }
   ],
   "source": [
    "df['diagnosis'].value_counts()"
   ]
  },
  {
   "cell_type": "code",
   "execution_count": 4,
   "id": "4169f063",
   "metadata": {},
   "outputs": [
    {
     "name": "stderr",
     "output_type": "stream",
     "text": [
      "C:\\Users\\panir\\anaconda3\\lib\\site-packages\\seaborn\\_decorators.py:36: FutureWarning: Pass the following variable as a keyword arg: x. From version 0.12, the only valid positional argument will be `data`, and passing other arguments without an explicit keyword will result in an error or misinterpretation.\n",
      "  warnings.warn(\n"
     ]
    },
    {
     "data": {
      "image/png": "[encoded data removed]",
      "text/plain": [
       "<Figure size 1224x648 with 1 Axes>"
      ]
     },
     "metadata": {
      "needs_background": "light"
     },
     "output_type": "display_data"
    }
   ],
   "source": [
    "plt.figure(figsize=[17,9])\n",
    "sb.countplot(df['diagnosis'].value_counts())\n",
    "plt.show()"
   ]
  },
  {
   "cell_type": "code",
   "execution_count": 5,
   "id": "f16fee99",
   "metadata": {},
   "outputs": [
    {
     "data": {
      "text/plain": [
       "id                           0\n",
       "diagnosis                    0\n",
       "radius_mean                  0\n",
       "texture_mean                 0\n",
       "perimeter_mean               0\n",
       "area_mean                    0\n",
       "smoothness_mean              0\n",
       "compactness_mean             0\n",
       "concavity_mean               0\n",
       "concave points_mean          0\n",
       "symmetry_mean                0\n",
       "fractal_dimension_mean       0\n",
       "radius_se                    0\n",
       "texture_se                   0\n",
       "perimeter_se                 0\n",
       "area_se                      0\n",
       "smoothness_se                0\n",
       "compactness_se               0\n",
       "concavity_se                 0\n",
       "concave points_se            0\n",
       "symmetry_se                  0\n",
       "fractal_dimension_se         0\n",
       "radius_worst                 0\n",
       "texture_worst                0\n",
       "perimeter_worst              0\n",
       "area_worst                   0\n",
       "smoothness_worst             0\n",
       "compactness_worst            0\n",
       "concavity_worst              0\n",
       "concave points_worst         0\n",
       "symmetry_worst               0\n",
       "fractal_dimension_worst      0\n",
       "Unnamed: 32                569\n",
       "dtype: int64"
      ]
     },
     "execution_count": 5,
     "metadata": {},
     "output_type": "execute_result"
    }
   ],
   "source": [
    "df.isnull().sum()"
   ]
  },
  {
   "cell_type": "code",
   "execution_count": 6,
   "id": "c09f6bc4",
   "metadata": {},
   "outputs": [],
   "source": [
    "#droping feature\n",
    "df.drop(['Unnamed: 32','id'],axis=1,inplace=True)"
   ]
  },
  {
   "cell_type": "code",
   "execution_count": 7,
   "id": "e89ca245",
   "metadata": {},
   "outputs": [],
   "source": [
    "# independent variables\n",
    "x = df.drop('diagnosis',axis=1)\n",
    "#dependent variables\n",
    "y = df.diagnosis"
   ]
  },
  {
   "cell_type": "code",
   "execution_count": 8,
   "id": "7cfa62a8",
   "metadata": {},
   "outputs": [],
   "source": [
    "from sklearn.preprocessing import LabelEncoder\n",
    "#creating the object\n",
    "lb = LabelEncoder()\n",
    "y = lb.fit_transform(y)"
   ]
  },
  {
   "cell_type": "code",
   "execution_count": 9,
   "id": "dfc14aff",
   "metadata": {},
   "outputs": [],
   "source": [
    "from sklearn.model_selection import train_test_split\n",
    "xtrain,xtest,ytrain,ytest = train_test_split(x,y,test_size=0.3,random_state=40)"
   ]
  },
  {
   "cell_type": "code",
   "execution_count": 10,
   "id": "adb1fea4",
   "metadata": {},
   "outputs": [],
   "source": [
    "#importing StandardScaler\n",
    "from sklearn.preprocessing import StandardScaler\n",
    "#creating object\n",
    "sc = StandardScaler()\n",
    "xtrain = sc.fit_transform(xtrain)\n",
    "xtest = sc.transform(xtest)"
   ]
  },
  {
   "cell_type": "code",
   "execution_count": 11,
   "id": "b080d672",
   "metadata": {},
   "outputs": [],
   "source": [
    "#importing keras\n",
    "import keras\n",
    "#importing sequential module\n",
    "from keras.models import Sequential\n",
    "# import dense module for hidden layers\n",
    "from keras.layers import Dense\n",
    "#importing activation functions\n",
    "from keras.layers import LeakyReLU,PReLU,ELU\n",
    "from keras.layers import Dropout"
   ]
  },
  {
   "cell_type": "code",
   "execution_count": 12,
   "id": "bf7cbb10",
   "metadata": {},
   "outputs": [],
   "source": [
    "#creating model\n",
    "classifier = Sequential()\n",
    "\n",
    "#first hidden layer\n",
    "classifier.add(Dense(units=9,kernel_initializer='he_uniform',activation='relu',input_dim=30))\n",
    "#second hidden layer\n",
    "classifier.add(Dense(units=9,kernel_initializer='he_uniform',activation='relu'))\n",
    "# last layer or output layer\n",
    "classifier.add(Dense(units=1,kernel_initializer='glorot_uniform',activation='sigmoid'))"
   ]
  },
  {
   "cell_type": "code",
   "execution_count": 13,
   "id": "40597be7",
   "metadata": {},
   "outputs": [
    {
     "name": "stdout",
     "output_type": "stream",
     "text": [
      "Model: \"sequential\"\n",
      "_________________________________________________________________\n",
      "Layer (type)                 Output Shape              Param #   \n",
      "=================================================================\n",
      "dense (Dense)                (None, 9)                 279       \n",
      "_________________________________________________________________\n",
      "dense_1 (Dense)              (None, 9)                 90        \n",
      "_________________________________________________________________\n",
      "dense_2 (Dense)              (None, 1)                 10        \n",
      "=================================================================\n",
      "Total params: 379\n",
      "Trainable params: 379\n",
      "Non-trainable params: 0\n",
      "_________________________________________________________________\n"
     ]
    }
   ],
   "source": [
    "#taking summary of layers\n",
    "classifier.summary()"
   ]
  },
  {
   "cell_type": "code",
   "execution_count": 14,
   "id": "32fa3704",
   "metadata": {},
   "outputs": [],
   "source": [
    "#compiling the ANN\n",
    "classifier.compile(optimizer='adam',loss='binary_crossentropy',metrics=['accuracy'])"
   ]
  },
  {
   "cell_type": "code",
   "execution_count": 15,
   "id": "e09ce61b",
   "metadata": {},
   "outputs": [
    {
     "name": "stdout",
     "output_type": "stream",
     "text": [
      "Epoch 1/100\n",
      "4/4 [==============================] - 0s 3ms/step - loss: 0.5111 - accuracy: 0.6457\n",
      "Epoch 2/100\n",
      "4/4 [==============================] - 0s 0s/step - loss: 0.4912 - accuracy: 0.6633\n",
      "Epoch 3/100\n",
      "4/4 [==============================] - 0s 3ms/step - loss: 0.4745 - accuracy: 0.6935\n",
      "Epoch 4/100\n",
      "4/4 [==============================] - 0s 0s/step - loss: 0.4599 - accuracy: 0.7136\n",
      "Epoch 5/100\n",
      "4/4 [==============================] - 0s 3ms/step - loss: 0.4472 - accuracy: 0.7437\n",
      "Epoch 6/100\n",
      "4/4 [==============================] - 0s 0s/step - loss: 0.4341 - accuracy: 0.7638\n",
      "Epoch 7/100\n",
      "4/4 [==============================] - 0s 0s/step - loss: 0.4214 - accuracy: 0.7814\n",
      "Epoch 8/100\n",
      "4/4 [==============================] - 0s 0s/step - loss: 0.4089 - accuracy: 0.7940\n",
      "Epoch 9/100\n",
      "4/4 [==============================] - 0s 0s/step - loss: 0.3957 - accuracy: 0.8040\n",
      "Epoch 10/100\n",
      "4/4 [==============================] - 0s 0s/step - loss: 0.3823 - accuracy: 0.8166\n",
      "Epoch 11/100\n",
      "4/4 [==============================] - 0s 0s/step - loss: 0.3688 - accuracy: 0.8291\n",
      "Epoch 12/100\n",
      "4/4 [==============================] - 0s 3ms/step - loss: 0.3540 - accuracy: 0.8492\n",
      "Epoch 13/100\n",
      "4/4 [==============================] - 0s 3ms/step - loss: 0.3392 - accuracy: 0.8643\n",
      "Epoch 14/100\n",
      "4/4 [==============================] - 0s 3ms/step - loss: 0.3231 - accuracy: 0.8794\n",
      "Epoch 15/100\n",
      "4/4 [==============================] - 0s 7ms/step - loss: 0.3073 - accuracy: 0.8844\n",
      "Epoch 16/100\n",
      "4/4 [==============================] - 0s 4ms/step - loss: 0.2919 - accuracy: 0.8995\n",
      "Epoch 17/100\n",
      "4/4 [==============================] - 0s 3ms/step - loss: 0.2761 - accuracy: 0.9095\n",
      "Epoch 18/100\n",
      "4/4 [==============================] - 0s 0s/step - loss: 0.2613 - accuracy: 0.9121\n",
      "Epoch 19/100\n",
      "4/4 [==============================] - 0s 6ms/step - loss: 0.2483 - accuracy: 0.9171\n",
      "Epoch 20/100\n",
      "4/4 [==============================] - 0s 0s/step - loss: 0.2360 - accuracy: 0.9171\n",
      "Epoch 21/100\n",
      "4/4 [==============================] - 0s 0s/step - loss: 0.2248 - accuracy: 0.9196\n",
      "Epoch 22/100\n",
      "4/4 [==============================] - 0s 0s/step - loss: 0.2144 - accuracy: 0.9246\n",
      "Epoch 23/100\n",
      "4/4 [==============================] - 0s 2ms/step - loss: 0.2053 - accuracy: 0.9296\n",
      "Epoch 24/100\n",
      "4/4 [==============================] - 0s 2ms/step - loss: 0.1965 - accuracy: 0.9322\n",
      "Epoch 25/100\n",
      "4/4 [==============================] - 0s 4ms/step - loss: 0.1890 - accuracy: 0.9322\n",
      "Epoch 26/100\n",
      "4/4 [==============================] - 0s 0s/step - loss: 0.1818 - accuracy: 0.9347\n",
      "Epoch 27/100\n",
      "4/4 [==============================] - 0s 3ms/step - loss: 0.1754 - accuracy: 0.9347\n",
      "Epoch 28/100\n",
      "4/4 [==============================] - 0s 3ms/step - loss: 0.1698 - accuracy: 0.9372\n",
      "Epoch 29/100\n",
      "4/4 [==============================] - 0s 0s/step - loss: 0.1645 - accuracy: 0.9397\n",
      "Epoch 30/100\n",
      "4/4 [==============================] - 0s 3ms/step - loss: 0.1594 - accuracy: 0.9422\n",
      "Epoch 31/100\n",
      "4/4 [==============================] - 0s 3ms/step - loss: 0.1548 - accuracy: 0.9422\n",
      "Epoch 32/100\n",
      "4/4 [==============================] - 0s 0s/step - loss: 0.1508 - accuracy: 0.9447\n",
      "Epoch 33/100\n",
      "4/4 [==============================] - 0s 3ms/step - loss: 0.1469 - accuracy: 0.9447\n",
      "Epoch 34/100\n",
      "4/4 [==============================] - 0s 3ms/step - loss: 0.1432 - accuracy: 0.9497\n",
      "Epoch 35/100\n",
      "4/4 [==============================] - 0s 0s/step - loss: 0.1399 - accuracy: 0.9497\n",
      "Epoch 36/100\n",
      "4/4 [==============================] - 0s 5ms/step - loss: 0.1368 - accuracy: 0.9523\n",
      "Epoch 37/100\n",
      "4/4 [==============================] - 0s 2ms/step - loss: 0.1338 - accuracy: 0.9523\n",
      "Epoch 38/100\n",
      "4/4 [==============================] - 0s 2ms/step - loss: 0.1310 - accuracy: 0.9523\n",
      "Epoch 39/100\n",
      "4/4 [==============================] - 0s 5ms/step - loss: 0.1283 - accuracy: 0.9548\n",
      "Epoch 40/100\n",
      "4/4 [==============================] - 0s 2ms/step - loss: 0.1258 - accuracy: 0.9548\n",
      "Epoch 41/100\n",
      "4/4 [==============================] - 0s 2ms/step - loss: 0.1234 - accuracy: 0.9548\n",
      "Epoch 42/100\n",
      "4/4 [==============================] - 0s 0s/step - loss: 0.1212 - accuracy: 0.9573\n",
      "Epoch 43/100\n",
      "4/4 [==============================] - 0s 3ms/step - loss: 0.1189 - accuracy: 0.9573\n",
      "Epoch 44/100\n",
      "4/4 [==============================] - 0s 2ms/step - loss: 0.1167 - accuracy: 0.9573\n",
      "Epoch 45/100\n",
      "4/4 [==============================] - 0s 0s/step - loss: 0.1145 - accuracy: 0.9598\n",
      "Epoch 46/100\n",
      "4/4 [==============================] - 0s 7ms/step - loss: 0.1124 - accuracy: 0.9598\n",
      "Epoch 47/100\n",
      "4/4 [==============================] - 0s 3ms/step - loss: 0.1104 - accuracy: 0.9623\n",
      "Epoch 48/100\n",
      "4/4 [==============================] - 0s 3ms/step - loss: 0.1084 - accuracy: 0.9623\n",
      "Epoch 49/100\n",
      "4/4 [==============================] - 0s 0s/step - loss: 0.1065 - accuracy: 0.9648\n",
      "Epoch 50/100\n",
      "4/4 [==============================] - 0s 0s/step - loss: 0.1047 - accuracy: 0.9673\n",
      "Epoch 51/100\n",
      "4/4 [==============================] - 0s 3ms/step - loss: 0.1027 - accuracy: 0.9673\n",
      "Epoch 52/100\n",
      "4/4 [==============================] - 0s 7ms/step - loss: 0.1010 - accuracy: 0.9673\n",
      "Epoch 53/100\n",
      "4/4 [==============================] - 0s 2ms/step - loss: 0.0993 - accuracy: 0.9698\n",
      "Epoch 54/100\n",
      "4/4 [==============================] - 0s 3ms/step - loss: 0.0975 - accuracy: 0.9698\n",
      "Epoch 55/100\n",
      "4/4 [==============================] - 0s 0s/step - loss: 0.0957 - accuracy: 0.9698\n",
      "Epoch 56/100\n",
      "4/4 [==============================] - 0s 2ms/step - loss: 0.0941 - accuracy: 0.9698\n",
      "Epoch 57/100\n",
      "4/4 [==============================] - 0s 0s/step - loss: 0.0925 - accuracy: 0.9724\n",
      "Epoch 58/100\n",
      "4/4 [==============================] - 0s 673us/step - loss: 0.0909 - accuracy: 0.9724\n",
      "Epoch 59/100\n",
      "4/4 [==============================] - 0s 882us/step - loss: 0.0895 - accuracy: 0.9724\n",
      "Epoch 60/100\n",
      "4/4 [==============================] - 0s 0s/step - loss: 0.0880 - accuracy: 0.9724\n",
      "Epoch 61/100\n",
      "4/4 [==============================] - 0s 3ms/step - loss: 0.0866 - accuracy: 0.9724\n",
      "Epoch 62/100\n",
      "4/4 [==============================] - 0s 3ms/step - loss: 0.0852 - accuracy: 0.9724\n",
      "Epoch 63/100\n",
      "4/4 [==============================] - 0s 0s/step - loss: 0.0839 - accuracy: 0.9724\n",
      "Epoch 64/100\n",
      "4/4 [==============================] - 0s 3ms/step - loss: 0.0827 - accuracy: 0.9724\n",
      "Epoch 65/100\n",
      "4/4 [==============================] - 0s 2ms/step - loss: 0.0815 - accuracy: 0.9724\n",
      "Epoch 66/100\n",
      "4/4 [==============================] - 0s 2ms/step - loss: 0.0803 - accuracy: 0.9724\n",
      "Epoch 67/100\n",
      "4/4 [==============================] - 0s 3ms/step - loss: 0.0792 - accuracy: 0.9724\n",
      "Epoch 68/100\n",
      "4/4 [==============================] - 0s 0s/step - loss: 0.0780 - accuracy: 0.9749\n",
      "Epoch 69/100\n",
      "4/4 [==============================] - 0s 3ms/step - loss: 0.0770 - accuracy: 0.9749\n",
      "Epoch 70/100\n",
      "4/4 [==============================] - 0s 0s/step - loss: 0.0759 - accuracy: 0.9749\n",
      "Epoch 71/100\n",
      "4/4 [==============================] - 0s 3ms/step - loss: 0.0748 - accuracy: 0.9749\n",
      "Epoch 72/100\n",
      "4/4 [==============================] - 0s 3ms/step - loss: 0.0739 - accuracy: 0.9749\n",
      "Epoch 73/100\n",
      "4/4 [==============================] - 0s 3ms/step - loss: 0.0729 - accuracy: 0.9749\n",
      "Epoch 74/100\n",
      "4/4 [==============================] - 0s 0s/step - loss: 0.0719 - accuracy: 0.9749\n",
      "Epoch 75/100\n",
      "4/4 [==============================] - 0s 4ms/step - loss: 0.0709 - accuracy: 0.9774\n",
      "Epoch 76/100\n",
      "4/4 [==============================] - 0s 0s/step - loss: 0.0700 - accuracy: 0.9774\n",
      "Epoch 77/100\n",
      "4/4 [==============================] - 0s 6ms/step - loss: 0.0692 - accuracy: 0.9774\n",
      "Epoch 78/100\n",
      "4/4 [==============================] - 0s 0s/step - loss: 0.0682 - accuracy: 0.9774\n",
      "Epoch 79/100\n",
      "4/4 [==============================] - 0s 0s/step - loss: 0.0674 - accuracy: 0.9824\n",
      "Epoch 80/100\n",
      "4/4 [==============================] - 0s 0s/step - loss: 0.0666 - accuracy: 0.9824\n",
      "Epoch 81/100\n",
      "4/4 [==============================] - 0s 3ms/step - loss: 0.0657 - accuracy: 0.9824\n",
      "Epoch 82/100\n",
      "4/4 [==============================] - 0s 3ms/step - loss: 0.0650 - accuracy: 0.9824\n",
      "Epoch 83/100\n",
      "4/4 [==============================] - 0s 4ms/step - loss: 0.0641 - accuracy: 0.9824\n",
      "Epoch 84/100\n",
      "4/4 [==============================] - 0s 0s/step - loss: 0.0634 - accuracy: 0.9824\n"
     ]
    },
    {
     "name": "stdout",
     "output_type": "stream",
     "text": [
      "Epoch 85/100\n",
      "4/4 [==============================] - 0s 3ms/step - loss: 0.0627 - accuracy: 0.9824\n",
      "Epoch 86/100\n",
      "4/4 [==============================] - 0s 0s/step - loss: 0.0619 - accuracy: 0.9824\n",
      "Epoch 87/100\n",
      "4/4 [==============================] - 0s 2ms/step - loss: 0.0611 - accuracy: 0.9824\n",
      "Epoch 88/100\n",
      "4/4 [==============================] - 0s 0s/step - loss: 0.0604 - accuracy: 0.9824\n",
      "Epoch 89/100\n",
      "4/4 [==============================] - 0s 5ms/step - loss: 0.0597 - accuracy: 0.9824\n",
      "Epoch 90/100\n",
      "4/4 [==============================] - 0s 0s/step - loss: 0.0590 - accuracy: 0.9824\n",
      "Epoch 91/100\n",
      "4/4 [==============================] - 0s 0s/step - loss: 0.0583 - accuracy: 0.9824\n",
      "Epoch 92/100\n",
      "4/4 [==============================] - 0s 0s/step - loss: 0.0576 - accuracy: 0.9824\n",
      "Epoch 93/100\n",
      "4/4 [==============================] - 0s 5ms/step - loss: 0.0570 - accuracy: 0.9824\n",
      "Epoch 94/100\n",
      "4/4 [==============================] - 0s 0s/step - loss: 0.0563 - accuracy: 0.9824\n",
      "Epoch 95/100\n",
      "4/4 [==============================] - 0s 0s/step - loss: 0.0557 - accuracy: 0.9824\n",
      "Epoch 96/100\n",
      "4/4 [==============================] - 0s 3ms/step - loss: 0.0551 - accuracy: 0.9849\n",
      "Epoch 97/100\n",
      "4/4 [==============================] - 0s 3ms/step - loss: 0.0545 - accuracy: 0.9849\n",
      "Epoch 98/100\n",
      "4/4 [==============================] - 0s 0s/step - loss: 0.0539 - accuracy: 0.9849\n",
      "Epoch 99/100\n",
      "4/4 [==============================] - 0s 3ms/step - loss: 0.0534 - accuracy: 0.9849\n",
      "Epoch 100/100\n",
      "4/4 [==============================] - 0s 2ms/step - loss: 0.0529 - accuracy: 0.9874\n"
     ]
    }
   ],
   "source": [
    "#fitting the ANN to the training set\n",
    "model = classifier.fit(xtrain,ytrain,batch_size=100,epochs=100)"
   ]
  },
  {
   "cell_type": "code",
   "execution_count": 16,
   "id": "b4bba6b4",
   "metadata": {},
   "outputs": [],
   "source": [
    "#now testing for Test data\n",
    "y_pred = classifier.predict(xtest)"
   ]
  },
  {
   "cell_type": "code",
   "execution_count": 17,
   "id": "f746bb6c",
   "metadata": {},
   "outputs": [
    {
     "name": "stdout",
     "output_type": "stream",
     "text": [
      "[[False]\n",
      " [ True]\n",
      " [False]\n",
      " [False]\n",
      " [ True]\n",
      " [False]\n",
      " [False]\n",
      " [False]\n",
      " [False]\n",
      " [False]\n",
      " [ True]\n",
      " [False]\n",
      " [False]\n",
      " [False]\n",
      " [ True]\n",
      " [False]\n",
      " [False]\n",
      " [False]\n",
      " [False]\n",
      " [False]\n",
      " [False]\n",
      " [ True]\n",
      " [False]\n",
      " [ True]\n",
      " [ True]\n",
      " [ True]\n",
      " [ True]\n",
      " [ True]\n",
      " [False]\n",
      " [False]\n",
      " [False]\n",
      " [ True]\n",
      " [ True]\n",
      " [False]\n",
      " [False]\n",
      " [False]\n",
      " [False]\n",
      " [ True]\n",
      " [False]\n",
      " [False]\n",
      " [ True]\n",
      " [False]\n",
      " [False]\n",
      " [False]\n",
      " [ True]\n",
      " [ True]\n",
      " [False]\n",
      " [ True]\n",
      " [ True]\n",
      " [False]\n",
      " [ True]\n",
      " [False]\n",
      " [False]\n",
      " [False]\n",
      " [False]\n",
      " [False]\n",
      " [False]\n",
      " [ True]\n",
      " [ True]\n",
      " [False]\n",
      " [False]\n",
      " [False]\n",
      " [False]\n",
      " [False]\n",
      " [False]\n",
      " [ True]\n",
      " [ True]\n",
      " [ True]\n",
      " [False]\n",
      " [False]\n",
      " [False]\n",
      " [ True]\n",
      " [ True]\n",
      " [False]\n",
      " [ True]\n",
      " [ True]\n",
      " [ True]\n",
      " [False]\n",
      " [False]\n",
      " [False]\n",
      " [False]\n",
      " [False]\n",
      " [ True]\n",
      " [False]\n",
      " [ True]\n",
      " [False]\n",
      " [ True]\n",
      " [ True]\n",
      " [False]\n",
      " [ True]\n",
      " [ True]\n",
      " [False]\n",
      " [False]\n",
      " [False]\n",
      " [False]\n",
      " [ True]\n",
      " [False]\n",
      " [False]\n",
      " [False]\n",
      " [False]\n",
      " [False]\n",
      " [False]\n",
      " [False]\n",
      " [ True]\n",
      " [False]\n",
      " [False]\n",
      " [False]\n",
      " [ True]\n",
      " [False]\n",
      " [False]\n",
      " [False]\n",
      " [False]\n",
      " [ True]\n",
      " [False]\n",
      " [ True]\n",
      " [False]\n",
      " [False]\n",
      " [False]\n",
      " [False]\n",
      " [ True]\n",
      " [ True]\n",
      " [False]\n",
      " [False]\n",
      " [False]\n",
      " [False]\n",
      " [ True]\n",
      " [ True]\n",
      " [False]\n",
      " [False]\n",
      " [False]\n",
      " [False]\n",
      " [False]\n",
      " [False]\n",
      " [False]\n",
      " [False]\n",
      " [False]\n",
      " [False]\n",
      " [False]\n",
      " [ True]\n",
      " [False]\n",
      " [False]\n",
      " [False]\n",
      " [False]\n",
      " [ True]\n",
      " [ True]\n",
      " [False]\n",
      " [ True]\n",
      " [False]\n",
      " [False]\n",
      " [ True]\n",
      " [False]\n",
      " [ True]\n",
      " [False]\n",
      " [ True]\n",
      " [False]\n",
      " [False]\n",
      " [ True]\n",
      " [False]\n",
      " [ True]\n",
      " [False]\n",
      " [ True]\n",
      " [False]\n",
      " [False]\n",
      " [False]\n",
      " [False]\n",
      " [False]\n",
      " [False]\n",
      " [False]\n",
      " [ True]\n",
      " [ True]\n",
      " [ True]]\n"
     ]
    }
   ],
   "source": [
    "y_pred = (y_pred>0.5)\n",
    "print(y_pred)"
   ]
  },
  {
   "cell_type": "code",
   "execution_count": 18,
   "id": "60f14d55",
   "metadata": {},
   "outputs": [
    {
     "name": "stdout",
     "output_type": "stream",
     "text": [
      "[[112   3]\n",
      " [  2  54]]\n",
      "score is: 0.9707602339181286\n"
     ]
    }
   ],
   "source": [
    "from sklearn.metrics import confusion_matrix\n",
    "from sklearn.metrics import accuracy_score\n",
    "cm = confusion_matrix(ytest,y_pred)\n",
    "score = accuracy_score(ytest,y_pred)\n",
    "print(cm)\n",
    "print('score is:',score)"
   ]
  },
  {
   "cell_type": "code",
   "execution_count": 19,
   "id": "22115573",
   "metadata": {},
   "outputs": [
    {
     "data": {
      "image/png": "[encoded data removed]",
      "text/plain": [
       "<Figure size 1008x504 with 2 Axes>"
      ]
     },
     "metadata": {
      "needs_background": "light"
     },
     "output_type": "display_data"
    }
   ],
   "source": [
    "# creating heatmap of confussion matrix\n",
    "plt.figure(figsize=[14,7])\n",
    "sb.heatmap(cm,annot=True)\n",
    "plt.show()"
   ]
  },
  {
   "cell_type": "code",
   "execution_count": 20,
   "id": "f6f21526",
   "metadata": {},
   "outputs": [
    {
     "name": "stdout",
     "output_type": "stream",
     "text": [
      "dict_keys(['loss', 'accuracy'])\n"
     ]
    },
    {
     "data": {
      "image/png": "[encoded data removed]",
      "text/plain": [
       "<Figure size 432x288 with 1 Axes>"
      ]
     },
     "metadata": {
      "needs_background": "light"
     },
     "output_type": "display_data"
    }
   ],
   "source": [
    "# list all data in history\n",
    "print(model.history.keys())\n",
    "# summarize history for accuracy\n",
    "plt.plot(model.history['accuracy'])\n",
    "plt.title('model accuracy')\n",
    "plt.ylabel('accuracy')\n",
    "plt.xlabel('epoch')\n",
    "plt.legend(['train', 'test'], loc='upper left')\n",
    "plt.show()"
   ]
  },
  {
   "cell_type": "code",
   "execution_count": 21,
   "id": "fa0d3bbe",
   "metadata": {},
   "outputs": [
    {
     "data": {
      "image/png": "[encoded data removed]",
      "text/plain": [
       "<Figure size 432x288 with 1 Axes>"
      ]
     },
     "metadata": {
      "needs_background": "light"
     },
     "output_type": "display_data"
    }
   ],
   "source": [
    "# summarize history for loss\n",
    "plt.plot(model.history['loss'])\n",
    "plt.title('model loss')\n",
    "plt.ylabel('loss')\n",
    "plt.xlabel('epoch')\n",
    "plt.legend(['train', 'test'], loc='upper left')\n",
    "plt.show()"
   ]
  },
  {
   "cell_type": "markdown",
   "id": "c4eed193",
   "metadata": {},
   "source": [
    "SGD OPTIMISER"
   ]
  },
  {
   "cell_type": "code",
   "execution_count": null,
   "id": "ba095ce8",
   "metadata": {},
   "outputs": [],
   "source": []
  },
  {
   "cell_type": "code",
   "execution_count": 22,
   "id": "a088fd77",
   "metadata": {},
   "outputs": [],
   "source": [
    "#creating model\n",
    "m1 = Sequential()\n",
    "\n",
    "#first hidden layer\n",
    "m1.add(Dense(units=9,kernel_initializer='he_uniform',activation='relu',input_dim=30))\n",
    "#second hidden layer\n",
    "m1.add(Dense(units=9,kernel_initializer='he_uniform',activation='relu'))\n",
    "# last layer or output layer\n",
    "m1.add(Dense(units=1,kernel_initializer='glorot_uniform',activation='sigmoid'))"
   ]
  },
  {
   "cell_type": "code",
   "execution_count": 23,
   "id": "b5b7f682",
   "metadata": {},
   "outputs": [
    {
     "name": "stdout",
     "output_type": "stream",
     "text": [
      "Model: \"sequential_1\"\n",
      "_________________________________________________________________\n",
      "Layer (type)                 Output Shape              Param #   \n",
      "=================================================================\n",
      "dense_3 (Dense)              (None, 9)                 279       \n",
      "_________________________________________________________________\n",
      "dense_4 (Dense)              (None, 9)                 90        \n",
      "_________________________________________________________________\n",
      "dense_5 (Dense)              (None, 1)                 10        \n",
      "=================================================================\n",
      "Total params: 379\n",
      "Trainable params: 379\n",
      "Non-trainable params: 0\n",
      "_________________________________________________________________\n"
     ]
    }
   ],
   "source": [
    "m1.summary()"
   ]
  },
  {
   "cell_type": "code",
   "execution_count": 25,
   "id": "577b932d",
   "metadata": {},
   "outputs": [
    {
     "name": "stdout",
     "output_type": "stream",
     "text": [
      "Epoch 1/100\n",
      "4/4 [==============================] - 0s 0s/step - loss: 1.6245 - accuracy: 0.0955\n",
      "Epoch 2/100\n",
      "4/4 [==============================] - 0s 0s/step - loss: 1.3943 - accuracy: 0.1080\n",
      "Epoch 3/100\n",
      "4/4 [==============================] - 0s 7ms/step - loss: 1.2233 - accuracy: 0.1533\n",
      "Epoch 4/100\n",
      "4/4 [==============================] - 0s 0s/step - loss: 1.0921 - accuracy: 0.1910\n",
      "Epoch 5/100\n",
      "4/4 [==============================] - 0s 0s/step - loss: 0.9936 - accuracy: 0.2412\n",
      "Epoch 6/100\n",
      "4/4 [==============================] - 0s 3ms/step - loss: 0.9181 - accuracy: 0.2789\n",
      "Epoch 7/100\n",
      "4/4 [==============================] - 0s 0s/step - loss: 0.8610 - accuracy: 0.3392\n",
      "Epoch 8/100\n",
      "4/4 [==============================] - 0s 0s/step - loss: 0.8154 - accuracy: 0.4296\n",
      "Epoch 9/100\n",
      "4/4 [==============================] - 0s 3ms/step - loss: 0.7780 - accuracy: 0.4774\n",
      "Epoch 10/100\n",
      "4/4 [==============================] - 0s 3ms/step - loss: 0.7465 - accuracy: 0.5327\n",
      "Epoch 11/100\n",
      "4/4 [==============================] - 0s 0s/step - loss: 0.7189 - accuracy: 0.5628\n",
      "Epoch 12/100\n",
      "4/4 [==============================] - 0s 0s/step - loss: 0.6948 - accuracy: 0.5955\n",
      "Epoch 13/100\n",
      "4/4 [==============================] - 0s 2ms/step - loss: 0.6729 - accuracy: 0.6156\n",
      "Epoch 14/100\n",
      "4/4 [==============================] - 0s 5ms/step - loss: 0.6521 - accuracy: 0.6508\n",
      "Epoch 15/100\n",
      "4/4 [==============================] - 0s 0s/step - loss: 0.6326 - accuracy: 0.6683\n",
      "Epoch 16/100\n",
      "4/4 [==============================] - 0s 3ms/step - loss: 0.6142 - accuracy: 0.6935\n",
      "Epoch 17/100\n",
      "4/4 [==============================] - 0s 3ms/step - loss: 0.5965 - accuracy: 0.7085\n",
      "Epoch 18/100\n",
      "4/4 [==============================] - 0s 5ms/step - loss: 0.5789 - accuracy: 0.7186\n",
      "Epoch 19/100\n",
      "4/4 [==============================] - 0s 0s/step - loss: 0.5609 - accuracy: 0.7538\n",
      "Epoch 20/100\n",
      "4/4 [==============================] - 0s 3ms/step - loss: 0.5423 - accuracy: 0.7739\n",
      "Epoch 21/100\n",
      "4/4 [==============================] - 0s 3ms/step - loss: 0.5244 - accuracy: 0.7915\n",
      "Epoch 22/100\n",
      "4/4 [==============================] - 0s 3ms/step - loss: 0.5067 - accuracy: 0.8015\n",
      "Epoch 23/100\n",
      "4/4 [==============================] - 0s 3ms/step - loss: 0.4901 - accuracy: 0.8191\n",
      "Epoch 24/100\n",
      "4/4 [==============================] - 0s 0s/step - loss: 0.4750 - accuracy: 0.8317\n",
      "Epoch 25/100\n",
      "4/4 [==============================] - 0s 0s/step - loss: 0.4607 - accuracy: 0.8392\n",
      "Epoch 26/100\n",
      "4/4 [==============================] - 0s 0s/step - loss: 0.4470 - accuracy: 0.8518\n",
      "Epoch 27/100\n",
      "4/4 [==============================] - 0s 3ms/step - loss: 0.4338 - accuracy: 0.8568\n",
      "Epoch 28/100\n",
      "4/4 [==============================] - 0s 3ms/step - loss: 0.4212 - accuracy: 0.8618\n",
      "Epoch 29/100\n",
      "4/4 [==============================] - 0s 3ms/step - loss: 0.4094 - accuracy: 0.8719\n",
      "Epoch 30/100\n",
      "4/4 [==============================] - 0s 2ms/step - loss: 0.3979 - accuracy: 0.8769\n",
      "Epoch 31/100\n",
      "4/4 [==============================] - 0s 0s/step - loss: 0.3868 - accuracy: 0.8769\n",
      "Epoch 32/100\n",
      "4/4 [==============================] - 0s 3ms/step - loss: 0.3762 - accuracy: 0.8769\n",
      "Epoch 33/100\n",
      "4/4 [==============================] - 0s 5ms/step - loss: 0.3661 - accuracy: 0.8794\n",
      "Epoch 34/100\n",
      "4/4 [==============================] - 0s 0s/step - loss: 0.3565 - accuracy: 0.8869\n",
      "Epoch 35/100\n",
      "4/4 [==============================] - 0s 0s/step - loss: 0.3472 - accuracy: 0.8894\n",
      "Epoch 36/100\n",
      "4/4 [==============================] - 0s 3ms/step - loss: 0.3379 - accuracy: 0.8970\n",
      "Epoch 37/100\n",
      "4/4 [==============================] - 0s 3ms/step - loss: 0.3290 - accuracy: 0.8970\n",
      "Epoch 38/100\n",
      "4/4 [==============================] - 0s 0s/step - loss: 0.3205 - accuracy: 0.9070\n",
      "Epoch 39/100\n",
      "4/4 [==============================] - 0s 0s/step - loss: 0.3126 - accuracy: 0.9070\n",
      "Epoch 40/100\n",
      "4/4 [==============================] - 0s 2ms/step - loss: 0.3050 - accuracy: 0.9121\n",
      "Epoch 41/100\n",
      "4/4 [==============================] - 0s 4ms/step - loss: 0.2979 - accuracy: 0.9121\n",
      "Epoch 42/100\n",
      "4/4 [==============================] - 0s 3ms/step - loss: 0.2910 - accuracy: 0.9171\n",
      "Epoch 43/100\n",
      "4/4 [==============================] - 0s 0s/step - loss: 0.2843 - accuracy: 0.9196\n",
      "Epoch 44/100\n",
      "4/4 [==============================] - 0s 0s/step - loss: 0.2779 - accuracy: 0.9246\n",
      "Epoch 45/100\n",
      "4/4 [==============================] - 0s 2ms/step - loss: 0.2718 - accuracy: 0.9296\n",
      "Epoch 46/100\n",
      "4/4 [==============================] - 0s 3ms/step - loss: 0.2658 - accuracy: 0.9271\n",
      "Epoch 47/100\n",
      "4/4 [==============================] - 0s 0s/step - loss: 0.2601 - accuracy: 0.9296\n",
      "Epoch 48/100\n",
      "4/4 [==============================] - 0s 0s/step - loss: 0.2547 - accuracy: 0.9372\n",
      "Epoch 49/100\n",
      "4/4 [==============================] - 0s 5ms/step - loss: 0.2493 - accuracy: 0.9372\n",
      "Epoch 50/100\n",
      "4/4 [==============================] - 0s 2ms/step - loss: 0.2443 - accuracy: 0.9372\n",
      "Epoch 51/100\n",
      "4/4 [==============================] - 0s 3ms/step - loss: 0.2395 - accuracy: 0.9422\n",
      "Epoch 52/100\n",
      "4/4 [==============================] - 0s 0s/step - loss: 0.2347 - accuracy: 0.9422\n",
      "Epoch 53/100\n",
      "4/4 [==============================] - 0s 3ms/step - loss: 0.2302 - accuracy: 0.9422\n",
      "Epoch 54/100\n",
      "4/4 [==============================] - 0s 3ms/step - loss: 0.2259 - accuracy: 0.9422\n",
      "Epoch 55/100\n",
      "4/4 [==============================] - 0s 3ms/step - loss: 0.2218 - accuracy: 0.9422\n",
      "Epoch 56/100\n",
      "4/4 [==============================] - 0s 5ms/step - loss: 0.2178 - accuracy: 0.9422\n",
      "Epoch 57/100\n",
      "4/4 [==============================] - 0s 0s/step - loss: 0.2140 - accuracy: 0.9422\n",
      "Epoch 58/100\n",
      "4/4 [==============================] - 0s 3ms/step - loss: 0.2103 - accuracy: 0.9422\n",
      "Epoch 59/100\n",
      "4/4 [==============================] - 0s 842us/step - loss: 0.2068 - accuracy: 0.9422\n",
      "Epoch 60/100\n",
      "4/4 [==============================] - 0s 0s/step - loss: 0.2036 - accuracy: 0.9422\n",
      "Epoch 61/100\n",
      "4/4 [==============================] - 0s 0s/step - loss: 0.2004 - accuracy: 0.9422\n",
      "Epoch 62/100\n",
      "4/4 [==============================] - 0s 3ms/step - loss: 0.1973 - accuracy: 0.9447\n",
      "Epoch 63/100\n",
      "4/4 [==============================] - 0s 3ms/step - loss: 0.1944 - accuracy: 0.9447\n",
      "Epoch 64/100\n",
      "4/4 [==============================] - 0s 0s/step - loss: 0.1916 - accuracy: 0.9447\n",
      "Epoch 65/100\n",
      "4/4 [==============================] - 0s 2ms/step - loss: 0.1889 - accuracy: 0.9447\n",
      "Epoch 66/100\n",
      "4/4 [==============================] - 0s 0s/step - loss: 0.1864 - accuracy: 0.9472\n",
      "Epoch 67/100\n",
      "4/4 [==============================] - 0s 0s/step - loss: 0.1839 - accuracy: 0.9472\n",
      "Epoch 68/100\n",
      "4/4 [==============================] - 0s 3ms/step - loss: 0.1814 - accuracy: 0.9472\n",
      "Epoch 69/100\n",
      "4/4 [==============================] - 0s 0s/step - loss: 0.1790 - accuracy: 0.9472\n",
      "Epoch 70/100\n",
      "4/4 [==============================] - 0s 5ms/step - loss: 0.1768 - accuracy: 0.9472\n",
      "Epoch 71/100\n",
      "4/4 [==============================] - 0s 0s/step - loss: 0.1746 - accuracy: 0.9497\n",
      "Epoch 72/100\n",
      "4/4 [==============================] - 0s 1ms/step - loss: 0.1724 - accuracy: 0.9523\n",
      "Epoch 73/100\n",
      "4/4 [==============================] - 0s 3ms/step - loss: 0.1704 - accuracy: 0.9523\n",
      "Epoch 74/100\n",
      "4/4 [==============================] - 0s 0s/step - loss: 0.1684 - accuracy: 0.9548\n",
      "Epoch 75/100\n",
      "4/4 [==============================] - 0s 3ms/step - loss: 0.1664 - accuracy: 0.9548\n",
      "Epoch 76/100\n",
      "4/4 [==============================] - 0s 0s/step - loss: 0.1645 - accuracy: 0.9548\n",
      "Epoch 77/100\n",
      "4/4 [==============================] - 0s 0s/step - loss: 0.1626 - accuracy: 0.9548\n",
      "Epoch 78/100\n",
      "4/4 [==============================] - 0s 0s/step - loss: 0.1608 - accuracy: 0.9573\n",
      "Epoch 79/100\n",
      "4/4 [==============================] - 0s 0s/step - loss: 0.1589 - accuracy: 0.9598\n",
      "Epoch 80/100\n",
      "4/4 [==============================] - 0s 5ms/step - loss: 0.1572 - accuracy: 0.9623\n",
      "Epoch 81/100\n",
      "4/4 [==============================] - 0s 0s/step - loss: 0.1555 - accuracy: 0.9623\n",
      "Epoch 82/100\n",
      "4/4 [==============================] - 0s 3ms/step - loss: 0.1539 - accuracy: 0.9623\n",
      "Epoch 83/100\n",
      "4/4 [==============================] - 0s 0s/step - loss: 0.1523 - accuracy: 0.9623\n",
      "Epoch 84/100\n",
      "4/4 [==============================] - 0s 1ms/step - loss: 0.1507 - accuracy: 0.9623\n",
      "Epoch 85/100\n"
     ]
    },
    {
     "name": "stdout",
     "output_type": "stream",
     "text": [
      "4/4 [==============================] - 0s 0s/step - loss: 0.1492 - accuracy: 0.9623\n",
      "Epoch 86/100\n",
      "4/4 [==============================] - 0s 0s/step - loss: 0.1478 - accuracy: 0.9623\n",
      "Epoch 87/100\n",
      "4/4 [==============================] - ETA: 0s - loss: 0.1549 - accuracy: 0.97 - 0s 3ms/step - loss: 0.1463 - accuracy: 0.9623\n",
      "Epoch 88/100\n",
      "4/4 [==============================] - 0s 2ms/step - loss: 0.1449 - accuracy: 0.9623\n",
      "Epoch 89/100\n",
      "4/4 [==============================] - 0s 3ms/step - loss: 0.1435 - accuracy: 0.9623\n",
      "Epoch 90/100\n",
      "4/4 [==============================] - 0s 0s/step - loss: 0.1422 - accuracy: 0.9623\n",
      "Epoch 91/100\n",
      "4/4 [==============================] - 0s 3ms/step - loss: 0.1409 - accuracy: 0.9623\n",
      "Epoch 92/100\n",
      "4/4 [==============================] - 0s 0s/step - loss: 0.1396 - accuracy: 0.9623\n",
      "Epoch 93/100\n",
      "4/4 [==============================] - 0s 3ms/step - loss: 0.1384 - accuracy: 0.9623\n",
      "Epoch 94/100\n",
      "4/4 [==============================] - 0s 0s/step - loss: 0.1372 - accuracy: 0.9623\n",
      "Epoch 95/100\n",
      "4/4 [==============================] - 0s 3ms/step - loss: 0.1360 - accuracy: 0.9623\n",
      "Epoch 96/100\n",
      "4/4 [==============================] - 0s 0s/step - loss: 0.1349 - accuracy: 0.9598\n",
      "Epoch 97/100\n",
      "4/4 [==============================] - 0s 0s/step - loss: 0.1337 - accuracy: 0.9598\n",
      "Epoch 98/100\n",
      "4/4 [==============================] - 0s 2ms/step - loss: 0.1326 - accuracy: 0.9598\n",
      "Epoch 99/100\n",
      "4/4 [==============================] - 0s 3ms/step - loss: 0.1315 - accuracy: 0.9598\n",
      "Epoch 100/100\n",
      "4/4 [==============================] - 0s 0s/step - loss: 0.1305 - accuracy: 0.9598\n"
     ]
    }
   ],
   "source": [
    "m1.compile(optimizer='SGD',loss='binary_crossentropy',metrics=['accuracy'])\n",
    "model = m1.fit(xtrain,ytrain,batch_size=100,epochs=100)"
   ]
  },
  {
   "cell_type": "code",
   "execution_count": 27,
   "id": "d7dae240",
   "metadata": {},
   "outputs": [],
   "source": [
    "y_pred1 = m1.predict(xtest)\n",
    "y_pred1 = (y_pred1>0.5)"
   ]
  },
  {
   "cell_type": "code",
   "execution_count": 28,
   "id": "fb0fad13",
   "metadata": {},
   "outputs": [
    {
     "name": "stdout",
     "output_type": "stream",
     "text": [
      "[[111   4]\n",
      " [  2  54]]\n",
      "score is: 0.9649122807017544\n"
     ]
    }
   ],
   "source": [
    "cm = confusion_matrix(ytest,y_pred1)\n",
    "score = accuracy_score(ytest,y_pred1)\n",
    "print(cm)\n",
    "print('score is:',score)"
   ]
  },
  {
   "cell_type": "code",
   "execution_count": 29,
   "id": "5d8ca89c",
   "metadata": {},
   "outputs": [
    {
     "data": {
      "image/png": "[encoded data removed]",
      "text/plain": [
       "<Figure size 1008x504 with 2 Axes>"
      ]
     },
     "metadata": {
      "needs_background": "light"
     },
     "output_type": "display_data"
    }
   ],
   "source": [
    "plt.figure(figsize=[14,7])\n",
    "sb.heatmap(cm,annot=True)\n",
    "plt.show()"
   ]
  },
  {
   "cell_type": "code",
   "execution_count": 30,
   "id": "11b63b8b",
   "metadata": {},
   "outputs": [
    {
     "name": "stdout",
     "output_type": "stream",
     "text": [
      "dict_keys(['loss', 'accuracy'])\n"
     ]
    },
    {
     "data": {
      "image/png": "[encoded data removed]",
      "text/plain": [
       "<Figure size 432x288 with 1 Axes>"
      ]
     },
     "metadata": {
      "needs_background": "light"
     },
     "output_type": "display_data"
    }
   ],
   "source": [
    "print(model.history.keys())\n",
    "# summarize history for accuracy\n",
    "plt.plot(model.history['accuracy'])\n",
    "plt.title('model accuracy')\n",
    "plt.ylabel('accuracy')\n",
    "plt.xlabel('epoch')\n",
    "plt.legend(['train', 'test'], loc='upper left')\n",
    "plt.show()"
   ]
  },
  {
   "cell_type": "code",
   "execution_count": 31,
   "id": "d15cac47",
   "metadata": {},
   "outputs": [
    {
     "data": {
      "image/png": "[encoded data removed]",
      "text/plain": [
       "<Figure size 432x288 with 1 Axes>"
      ]
     },
     "metadata": {
      "needs_background": "light"
     },
     "output_type": "display_data"
    }
   ],
   "source": [
    "plt.plot(model.history['loss'])\n",
    "plt.title('model loss')\n",
    "plt.ylabel('loss')\n",
    "plt.xlabel('epoch')\n",
    "plt.legend(['train', 'test'], loc='upper left')\n",
    "plt.show()"
   ]
  },
  {
   "cell_type": "code",
   "execution_count": null,
   "id": "832409fd",
   "metadata": {},
   "outputs": [],
   "source": []
  }
 ],
 "metadata": {
  "kernelspec": {
   "display_name": "Python 3",
   "language": "python",
   "name": "python3"
  },
  "language_info": {
   "codemirror_mode": {
    "name": "ipython",
    "version": 3
   },
   "file_extension": ".py",
   "mimetype": "text/x-python",
   "name": "python",
   "nbconvert_exporter": "python",
   "pygments_lexer": "ipython3",
   "version": "3.8.8"
  }
 },
 "nbformat": 4,
 "nbformat_minor": 5
}
