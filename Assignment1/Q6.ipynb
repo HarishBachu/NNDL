{
 "cells": [
  {
   "cell_type": "markdown",
   "source": [
    "### Q6. The neural network shown in Fig.1 has the following hyper parameters and input: Choose random weights of the neuron and bias=0, learning rate =0.01 and inputs to the neuron and target values are as follows.\n",
    "\n",
    "<image src=\"Q6_table.png\">\n",
    "<br> \n",
    "<image src=\"Q6_model.png\">\n",
    "\n",
    "### Write a python code for calculating the output of neural network using Gradient Descent Algorithm"
   ],
   "metadata": {}
  },
  {
   "cell_type": "code",
   "execution_count": 1,
   "source": [
    "import numpy as np \n",
    "import matplotlib.pyplot as plt \n",
    "\n",
    "from losses import MSE \n",
    "from activations import ReLU, d_ReLU"
   ],
   "outputs": [],
   "metadata": {}
  },
  {
   "cell_type": "code",
   "execution_count": 2,
   "source": [
    "X = np.array([[4, 1], [2, 8], [1, 0], [3, 2], [1, 4], [6, 7]]) \n",
    "Y = np.array([2, -14, 1, -1, -7, -8])\n",
    "Y = np.expand_dims(Y, -1) \n",
    "\n",
    "b = 0 \n",
    "lr = 0.01 \n",
    "W = np.random.randn(2, 1)\n",
    "epochs = 100"
   ],
   "outputs": [],
   "metadata": {}
  },
  {
   "cell_type": "code",
   "execution_count": 3,
   "source": [
    "def gradient_descent(W, b, X, Y, lr):\n",
    "    dW = 0 \n",
    "    dB = 0 \n",
    "    n = len(X) \n",
    "\n",
    "    for i in range(n):\n",
    "        dW -= (2/n) * X[i] * (Y[i] - (X[i].dot(W) + b))\n",
    "        dB -= (2/n) * (Y[i] - (X[i].dot(W) + b))\n",
    "\n",
    "    # print(dW.shape)\n",
    "    # print(W.shape)\n",
    "    W -= lr * np.expand_dims(dW, -1) \n",
    "    b -= lr * dB \n",
    "\n",
    "    return W, b "
   ],
   "outputs": [],
   "metadata": {}
  },
  {
   "cell_type": "code",
   "execution_count": 4,
   "source": [
    "lossHist = [] \n",
    "\n",
    "for epoch in range(epochs):\n",
    "    loss = MSE(Y, (X.dot(W) + b))\n",
    "    lossHist.append(loss)\n",
    "    print(\"Loss at epoch {}: {}\".format(epoch, loss)) \n",
    "    W, b = gradient_descent(W, b, X, Y, lr) "
   ],
   "outputs": [
    {
     "output_type": "stream",
     "name": "stdout",
     "text": [
      "Loss at epoch 0: 17.32953454625719\n",
      "Loss at epoch 1: 13.62319479390969\n",
      "Loss at epoch 2: 11.553344433684332\n",
      "Loss at epoch 3: 9.936044843504428\n",
      "Loss at epoch 4: 8.566218009567331\n",
      "Loss at epoch 5: 7.388545473928296\n",
      "Loss at epoch 6: 6.373424180069937\n",
      "Loss at epoch 7: 5.498020418963975\n",
      "Loss at epoch 8: 4.743043386344841\n",
      "Loss at epoch 9: 4.091915907124879\n",
      "Loss at epoch 10: 3.5303502013950325\n",
      "Loss at epoch 11: 3.046025351903463\n",
      "Loss at epoch 12: 2.6283155974657095\n",
      "Loss at epoch 13: 2.2680569660584546\n",
      "Loss at epoch 14: 1.957346154890028\n",
      "Loss at epoch 15: 1.6893670993997987\n",
      "Loss at epoch 16: 1.4582414039271907\n",
      "Loss at epoch 17: 1.2588993487520876\n",
      "Loss at epoch 18: 1.086968642461129\n",
      "Loss at epoch 19: 0.9386784783974892\n",
      "Loss at epoch 20: 0.8107767898387438\n",
      "Loss at epoch 21: 0.7004588881837646\n",
      "Loss at epoch 22: 0.6053059182149226\n",
      "Loss at epoch 23: 0.5232317799237768\n",
      "Loss at epoch 24: 0.452437352175222\n",
      "Loss at epoch 25: 0.39137101371347693\n",
      "Loss at epoch 26: 0.3386945951995502\n",
      "Loss at epoch 27: 0.2932540151460578\n",
      "Loss at epoch 28: 0.2540539553967518\n",
      "Loss at epoch 29: 0.22023602044017454\n",
      "Loss at epoch 30: 0.19105990129464745\n",
      "Loss at epoch 31: 0.16588713063283653\n",
      "Loss at epoch 32: 0.14416707267522003\n",
      "Loss at epoch 33: 0.12542484042060037\n",
      "Loss at epoch 34: 0.10925087507447706\n",
      "Loss at epoch 35: 0.09529195901066036\n",
      "Loss at epoch 36: 0.08324346505836556\n",
      "Loss at epoch 37: 0.07284267203642185\n",
      "Loss at epoch 38: 0.06386299985350641\n",
      "Loss at epoch 39: 0.05610903767189627\n",
      "Loss at epoch 40: 0.04941225603486484\n",
      "Loss at epoch 41: 0.04362730886646974\n",
      "Loss at epoch 42: 0.03862884419638788\n",
      "Loss at epoch 43: 0.03430875362569966\n",
      "Loss at epoch 44: 0.030573800177070842\n",
      "Loss at epoch 45: 0.027343572475891295\n",
      "Loss at epoch 46: 0.024548720369791107\n",
      "Loss at epoch 47: 0.022129433269729885\n",
      "Loss at epoch 48: 0.020034127822025058\n",
      "Loss at epoch 49: 0.018218316114160082\n",
      "Loss at epoch 50: 0.016643629578770826\n",
      "Loss at epoch 51: 0.015276977176779396\n",
      "Loss at epoch 52: 0.014089819387214443\n",
      "Loss at epoch 53: 0.013057542072465027\n",
      "Loss at epoch 54: 0.012158916479344297\n",
      "Loss at epoch 55: 0.01137563352646348\n",
      "Loss at epoch 56: 0.010691902158525661\n",
      "Loss at epoch 57: 0.010094102954004862\n",
      "Loss at epoch 58: 0.0095704893851353\n",
      "Loss at epoch 59: 0.009110930174795013\n",
      "Loss at epoch 60: 0.008706687096682446\n",
      "Loss at epoch 61: 0.008350223342936733\n",
      "Loss at epoch 62: 0.008035038254112076\n",
      "Loss at epoch 63: 0.007755524784899256\n",
      "Loss at epoch 64: 0.007506846577892272\n",
      "Loss at epoch 65: 0.007284831947969962\n",
      "Loss at epoch 66: 0.007085882450936681\n",
      "Loss at epoch 67: 0.006906894030104509\n",
      "Loss at epoch 68: 0.006745189010496204\n",
      "Loss at epoch 69: 0.006598457448391204\n",
      "Loss at epoch 70: 0.006464706549220357\n",
      "Loss at epoch 71: 0.006342217043867722\n",
      "Loss at epoch 72: 0.0062295055661280505\n",
      "Loss at epoch 73: 0.006125292205754863\n",
      "Loss at epoch 74: 0.006028472525107701\n",
      "Loss at epoch 75: 0.005938093425350355\n",
      "Loss at epoch 76: 0.005853332332627698\n",
      "Loss at epoch 77: 0.005773479247501167\n",
      "Loss at epoch 78: 0.005697921263749028\n",
      "Loss at epoch 79: 0.005626129216829999\n",
      "Loss at epoch 80: 0.0055576461690364865\n",
      "Loss at epoch 81: 0.005492077478668522\n",
      "Loss at epoch 82: 0.005429082235320508\n",
      "Loss at epoch 83: 0.005368365873346121\n",
      "Loss at epoch 84: 0.005309673801424667\n",
      "Loss at epoch 85: 0.005252785908445847\n",
      "Loss at epoch 86: 0.005197511825159334\n",
      "Loss at epoch 87: 0.005143686837622831\n",
      "Loss at epoch 88: 0.005091168362780992\n",
      "Loss at epoch 89: 0.005039832908845402\n",
      "Loss at epoch 90: 0.004989573453782898\n",
      "Loss at epoch 91: 0.004940297184394677\n",
      "Loss at epoch 92: 0.00489192354638024\n",
      "Loss at epoch 93: 0.004844382562606423\n",
      "Loss at epoch 94: 0.004797613382684535\n",
      "Loss at epoch 95: 0.004751563032035582\n",
      "Loss at epoch 96: 0.004706185333001315\n",
      "Loss at epoch 97: 0.0046614399743336405\n",
      "Loss at epoch 98: 0.004617291708650069\n",
      "Loss at epoch 99: 0.004573709660251485\n"
     ]
    }
   ],
   "metadata": {}
  },
  {
   "cell_type": "code",
   "execution_count": 5,
   "source": [
    "plt.plot(lossHist)\n",
    "plt.show()"
   ],
   "outputs": [
    {
     "output_type": "display_data",
     "data": {
      "image/png": "[encoded data removed]",
      "text/plain": [
       "<Figure size 640x480 with 1 Axes>"
      ]
     },
     "metadata": {}
    }
   ],
   "metadata": {}
  },
  {
   "cell_type": "code",
   "execution_count": null,
   "source": [],
   "outputs": [],
   "metadata": {}
  }
 ],
 "metadata": {
  "orig_nbformat": 4,
  "language_info": {
   "name": "python",
   "version": "3.7.11",
   "mimetype": "text/x-python",
   "codemirror_mode": {
    "name": "ipython",
    "version": 3
   },
   "pygments_lexer": "ipython3",
   "nbconvert_exporter": "python",
   "file_extension": ".py"
  },
  "kernelspec": {
   "name": "python3",
   "display_name": "Python 3.7.11 64-bit ('machine_learning': conda)"
  },
  "interpreter": {
   "hash": "125fb9edb0687e7e40649f3d4ac076ed8f6387ce59a5df80ec89338b2a4e9129"
  }
 },
 "nbformat": 4,
 "nbformat_minor": 2
}