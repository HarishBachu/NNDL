{
 "cells": [
  {
   "cell_type": "markdown",
   "source": [
    "### Q6. The neural network shown in Fig.1 has the following hyper parameters and input: Choose random weights of the neuron and bias=0, learning rate =0.01 and inputs to the neuron and target values are as follows.\n",
    "\n",
    "<image src=\"Q6_table.png\">\n",
    "<br> \n",
    "<image src=\"Q6_model.png\">\n",
    "\n",
    "### Write a python code for calculating the output of neural network using Gradient Descent Algorithm"
   ],
   "metadata": {}
  },
  {
   "cell_type": "code",
   "execution_count": 1,
   "source": [
    "import numpy as np \n",
    "import matplotlib.pyplot as plt \n",
    "\n",
    "from losses import MSE "
   ],
   "outputs": [],
   "metadata": {}
  },
  {
   "cell_type": "code",
   "execution_count": 2,
   "source": [
    "X = np.array([[4, 1], [2, 8], [1, 0], [3, 2], [1, 4], [6, 7]]) \n",
    "Y = np.array([2, -14, 1, -1, -7, -8])\n",
    "Y = np.expand_dims(Y, -1) \n",
    "\n",
    "b = 0 \n",
    "lr = 0.01 \n",
    "W = np.random.randn(2, 1)\n",
    "epochs = 10"
   ],
   "outputs": [],
   "metadata": {}
  },
  {
   "cell_type": "code",
   "execution_count": 3,
   "source": [
    "def gradient_descent(W, b, X, Y, lr):\n",
    "    dW = 0 \n",
    "    dB = 0 \n",
    "    n = len(X) \n",
    "\n",
    "    for i in range(n):\n",
    "        dW -= (2/n) * X[i] * (Y[i] - (X[i].dot(W) + b))\n",
    "        dB -= (2/n) * (Y[i] - (X[i].dot(W) + b))\n",
    "\n",
    "    # print(dW.shape)\n",
    "    # print(W.shape)\n",
    "    W -= lr * np.expand_dims(dW, -1) \n",
    "    b -= lr * dB \n",
    "\n",
    "    return W, b "
   ],
   "outputs": [],
   "metadata": {}
  },
  {
   "cell_type": "code",
   "execution_count": 4,
   "source": [
    "lossHist = [] \n",
    "\n",
    "for epoch in range(epochs):\n",
    "    loss = MSE(Y, (X.dot(W) + b))\n",
    "    lossHist.append(loss)\n",
    "    print(\"Loss at epoch {}: {}\".format(epoch, loss)) \n",
    "    W, b = gradient_descent(W, b, X, Y, lr) "
   ],
   "outputs": [
    {
     "output_type": "stream",
     "name": "stdout",
     "text": [
      "Loss at epoch 0: 281.85559827021893\n",
      "Loss at epoch 1: 50.183304913868916\n",
      "Loss at epoch 2: 14.547579823534912\n",
      "Loss at epoch 3: 8.267870901882924\n",
      "Loss at epoch 4: 6.494588097637409\n",
      "Loss at epoch 5: 5.507821476152789\n",
      "Loss at epoch 6: 4.7376088016075615\n",
      "Loss at epoch 7: 4.085376430842769\n",
      "Loss at epoch 8: 3.5246485111406627\n",
      "Loss at epoch 9: 3.041310955483555\n"
     ]
    }
   ],
   "metadata": {}
  },
  {
   "cell_type": "code",
   "execution_count": 5,
   "source": [
    "plt.plot(lossHist)\n",
    "plt.show()"
   ],
   "outputs": [
    {
     "output_type": "display_data",
     "data": {
      "image/png": "[encoded data removed]",
      "text/plain": [
       "<Figure size 640x480 with 1 Axes>"
      ]
     },
     "metadata": {}
    }
   ],
   "metadata": {}
  },
  {
   "cell_type": "code",
   "execution_count": null,
   "source": [],
   "outputs": [],
   "metadata": {}
  }
 ],
 "metadata": {
  "orig_nbformat": 4,
  "language_info": {
   "name": "python",
   "version": "3.7.11",
   "mimetype": "text/x-python",
   "codemirror_mode": {
    "name": "ipython",
    "version": 3
   },
   "pygments_lexer": "ipython3",
   "nbconvert_exporter": "python",
   "file_extension": ".py"
  },
  "kernelspec": {
   "name": "python3",
   "display_name": "Python 3.7.11 64-bit ('machine_learning': conda)"
  },
  "interpreter": {
   "hash": "125fb9edb0687e7e40649f3d4ac076ed8f6387ce59a5df80ec89338b2a4e9129"
  }
 },
 "nbformat": 4,
 "nbformat_minor": 2
}