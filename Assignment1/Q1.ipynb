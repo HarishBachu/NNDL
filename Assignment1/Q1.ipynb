{
 "cells": [
  {
   "cell_type": "markdown",
   "source": [
    "### Q.1. Write python code from scratch for simple Linear Regression problem, the following training data are given.\n",
    "     X = [2,  2.5, 3, 3.5, 4, 4.5, 5, 5.5, 6]\n",
    "     Y = [5.1, 6.1, 6.9, 7.8, 9.2, 9.9, 11.5, 12, 12.8]\n",
    "### The model Y as a linear function of X \n",
    "### 1. Use batch gradient descent learning algorithm to learn model parameters for α = 0.01 choose random values of weights and bias and epochs=1000.  Use MSE as loss function with an appropriate convergence criterion. \n",
    "### 2. Plot cost function (J) for the learning duration \n",
    "### 3. plot the regression line  \n",
    "### 4. repeat 2. to 3. for stochastic gradient descent  and Adam optimization algorithm \n",
    "### 5. Plot comparative loss curve \n"
   ],
   "metadata": {}
  },
  {
   "cell_type": "code",
   "execution_count": null,
   "source": [
    "import numpy as np \n",
    "import matplotlib.pyplot as plt \n",
    "\n",
    "from activations import ReLU\n",
    "from losses import MSE \n",
    "\n"
   ],
   "outputs": [],
   "metadata": {}
  }
 ],
 "metadata": {
  "orig_nbformat": 4,
  "language_info": {
   "name": "python",
   "version": "3.7.11"
  },
  "kernelspec": {
   "name": "python3",
   "display_name": "Python 3.7.11 64-bit ('machine_learning': conda)"
  },
  "interpreter": {
   "hash": "125fb9edb0687e7e40649f3d4ac076ed8f6387ce59a5df80ec89338b2a4e9129"
  }
 },
 "nbformat": 4,
 "nbformat_minor": 2
}