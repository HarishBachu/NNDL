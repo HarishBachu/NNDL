{
 "cells": [
  {
   "cell_type": "code",
   "execution_count": null,
   "source": [
    "import numpy as np\n",
    "import pandas as pd\n",
    "import seaborn as sns\n",
    "import matplotlib.pyplot as plt\n",
    "from sklearn.preprocessing import normalize\n",
    "from sklearn.metrics import classification_report, confusion_matrix\n",
    "\n",
    "import tensorflow as tf\n",
    "from tensorflow.keras.models import Sequential \n",
    "from tensorflow.keras.layers import Dense,Activation,Dropout \n",
    "from tensorflow.keras.layers import BatchNormalization \n",
    "from tensorflow.keras.utils import to_categorical\n",
    "\n",
    "plt.style.use(\"ggplot\")"
   ],
   "outputs": [],
   "metadata": {}
  },
  {
   "cell_type": "code",
   "execution_count": null,
   "source": [
    "data = pd.read_csv('Iris.csv')\n",
    "data.describe()"
   ],
   "outputs": [],
   "metadata": {}
  },
  {
   "cell_type": "code",
   "execution_count": null,
   "source": [
    "data.head()"
   ],
   "outputs": [],
   "metadata": {}
  },
  {
   "cell_type": "code",
   "execution_count": null,
   "source": [
    "sns.lmplot('SepalLengthCm', 'SepalWidthCm',\n",
    "           data=data,\n",
    "           fit_reg=False,\n",
    "           hue=\"Species\",\n",
    "           scatter_kws={\"marker\": \"D\",\n",
    "                        \"s\": 50})\n",
    "plt.title('SepalLength vs SepalWidth')\n",
    "\n",
    "sns.lmplot('PetalLengthCm', 'PetalWidthCm',\n",
    "           data=data,\n",
    "           fit_reg=False,\n",
    "           hue=\"Species\",\n",
    "           scatter_kws={\"marker\": \"D\",\n",
    "                        \"s\": 50})\n",
    "plt.title('PetalLength vs PetalWidth')\n",
    "\n",
    "sns.lmplot('SepalLengthCm', 'PetalLengthCm',\n",
    "           data=data,\n",
    "           fit_reg=False,\n",
    "           hue=\"Species\",\n",
    "           scatter_kws={\"marker\": \"D\",\n",
    "                        \"s\": 50})\n",
    "plt.title('SepalLength vs PetalLength')\n",
    "\n",
    "sns.lmplot('SepalWidthCm', 'PetalWidthCm',\n",
    "           data=data,\n",
    "           fit_reg=False,\n",
    "           hue=\"Species\",\n",
    "           scatter_kws={\"marker\": \"D\",\n",
    "                        \"s\": 50})\n",
    "plt.title('SepalWidth vs PetalWidth')\n",
    "plt.show()"
   ],
   "outputs": [],
   "metadata": {}
  },
  {
   "cell_type": "code",
   "execution_count": null,
   "source": [
    "data.loc[data[\"Species\"]==\"Iris-setosa\",\"Species\"]=0\n",
    "data.loc[data[\"Species\"]==\"Iris-versicolor\",\"Species\"]=1\n",
    "data.loc[data[\"Species\"]==\"Iris-virginica\",\"Species\"]=2\n",
    "print(data.head())"
   ],
   "outputs": [],
   "metadata": {}
  },
  {
   "cell_type": "code",
   "execution_count": null,
   "source": [
    "data=data.iloc[np.random.permutation(len(data))]\n",
    "print(data.head())"
   ],
   "outputs": [],
   "metadata": {}
  },
  {
   "cell_type": "code",
   "execution_count": null,
   "source": [
    "X=data.iloc[:,1:5].values\n",
    "y=data.iloc[:,5].values\n",
    "\n",
    "print(\"Shape of X\",X.shape)\n",
    "print(\"Shape of y\",y.shape)\n",
    "print(\"Examples of X\\n\",X[:3])\n",
    "print(\"Examples of y\\n\",y[:3])"
   ],
   "outputs": [],
   "metadata": {}
  },
  {
   "cell_type": "code",
   "execution_count": null,
   "source": [
    "X_normalized=normalize(X,axis=0)\n",
    "print(\"Examples of X_normalised\\n\",X_normalized[:3])"
   ],
   "outputs": [],
   "metadata": {}
  },
  {
   "cell_type": "code",
   "execution_count": null,
   "source": [
    "total_length=len(data)\n",
    "train_length=int(0.8*total_length)\n",
    "test_length=int(0.2*total_length)\n",
    "\n",
    "X_train=X_normalized[:train_length]\n",
    "X_test=X_normalized[train_length:]\n",
    "y_train=y[:train_length]\n",
    "y_test=y[train_length:]\n",
    "\n",
    "print(\"Length of train set x:\",X_train.shape[0],\"y:\",y_train.shape[0])\n",
    "print(\"Length of test set x:\",X_test.shape[0],\"y:\",y_test.shape[0])"
   ],
   "outputs": [],
   "metadata": {}
  },
  {
   "cell_type": "code",
   "execution_count": null,
   "source": [
    "y_train = to_categorical(y_train,num_classes=3)\n",
    "y_test = to_categorical(y_test,num_classes=3)\n",
    "print(\"Shape of y_train\",y_train.shape)\n",
    "print(\"Shape of y_test\",y_test.shape)"
   ],
   "outputs": [],
   "metadata": {}
  },
  {
   "cell_type": "code",
   "execution_count": null,
   "source": [
    "def getModel():\n",
    "    model=Sequential()\n",
    "    model.add(Dense(1000,input_dim=4,activation='relu'))\n",
    "    model.add(Dense(500,activation='relu'))\n",
    "    model.add(Dense(300,activation='relu'))\n",
    "    model.add(Dropout(0.2))\n",
    "    model.add(Dense(3,activation='softmax'))\n",
    "    \n",
    "    model.summary()\n",
    "    \n",
    "    return model"
   ],
   "outputs": [],
   "metadata": {}
  },
  {
   "cell_type": "code",
   "execution_count": null,
   "source": [
    "model = getModel()\n",
    "model.compile(loss='categorical_crossentropy',optimizer='adam',metrics=['accuracy'])"
   ],
   "outputs": [],
   "metadata": {}
  },
  {
   "cell_type": "code",
   "execution_count": null,
   "source": [
    "history = model.fit(X_train,y_train,validation_data=(X_test,y_test),batch_size=20,epochs=200,verbose=1)"
   ],
   "outputs": [],
   "metadata": {}
  },
  {
   "cell_type": "code",
   "execution_count": null,
   "source": [
    "plt.plot(history.history['loss'])\n",
    "plt.title('model loss')\n",
    "plt.ylabel('loss')\n",
    "plt.xlabel('epoch')\n",
    "plt.show()"
   ],
   "outputs": [],
   "metadata": {}
  },
  {
   "cell_type": "code",
   "execution_count": null,
   "source": [
    "y_pred = model.predict(X_test)\n",
    "y_pred = (y_pred>0.5)"
   ],
   "outputs": [],
   "metadata": {}
  },
  {
   "cell_type": "code",
   "execution_count": null,
   "source": [
    "clr = classification_report(y_test, y_pred)\n",
    "print(clr)"
   ],
   "outputs": [],
   "metadata": {}
  },
  {
   "cell_type": "code",
   "execution_count": null,
   "source": [
    "from sklearn.metrics import multilabel_confusion_matrix\n",
    "\n",
    "cm = multilabel_confusion_matrix(y_test,y_pred)\n",
    "# print(cm)\n",
    "sns.heatmap(cm, annot=True)"
   ],
   "outputs": [],
   "metadata": {}
  },
  {
   "cell_type": "code",
   "execution_count": null,
   "source": [
    "model = getModel() \n",
    "model.compile(loss='categorical_crossentropy',optimizer='sgd',metrics=['accuracy'])"
   ],
   "outputs": [],
   "metadata": {}
  },
  {
   "cell_type": "code",
   "execution_count": null,
   "source": [
    "history=model.fit(X_train,y_train,validation_data=(X_test,y_test),batch_size=20,epochs=200,verbose=1)"
   ],
   "outputs": [],
   "metadata": {}
  },
  {
   "cell_type": "code",
   "execution_count": null,
   "source": [
    "plt.plot(history.history['loss'])\n",
    "plt.title('model loss')\n",
    "plt.ylabel('loss')\n",
    "plt.xlabel('epoch')\n",
    "plt.show()"
   ],
   "outputs": [],
   "metadata": {}
  },
  {
   "cell_type": "code",
   "execution_count": null,
   "source": [
    "y_pred = model.predict(X_test)\n",
    "y_pred = y_pred>0.5"
   ],
   "outputs": [],
   "metadata": {}
  },
  {
   "cell_type": "code",
   "execution_count": null,
   "source": [
    "clr = classification_report(y_test, y_pred)\n",
    "print(clr)"
   ],
   "outputs": [],
   "metadata": {}
  },
  {
   "cell_type": "code",
   "execution_count": null,
   "source": [
    "cm = multilabel_confusion_matrix(y_test,y_pred)\n",
    "sns.heatmap(cm, annot=True)"
   ],
   "outputs": [],
   "metadata": {}
  },
  {
   "cell_type": "code",
   "execution_count": null,
   "source": [],
   "outputs": [],
   "metadata": {}
  }
 ],
 "metadata": {
  "kernelspec": {
   "name": "python3",
   "display_name": "Python 3.8.11 64-bit ('machine_learning': conda)"
  },
  "language_info": {
   "codemirror_mode": {
    "name": "ipython",
    "version": 3
   },
   "file_extension": ".py",
   "mimetype": "text/x-python",
   "name": "python",
   "nbconvert_exporter": "python",
   "pygments_lexer": "ipython3",
   "version": "3.8.11"
  },
  "interpreter": {
   "hash": "125fb9edb0687e7e40649f3d4ac076ed8f6387ce59a5df80ec89338b2a4e9129"
  }
 },
 "nbformat": 4,
 "nbformat_minor": 5
}