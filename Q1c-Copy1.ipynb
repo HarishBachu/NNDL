{
 "cells": [
  {
   "cell_type": "code",
   "execution_count": 1,
   "source": [
    "#Import Libraries\n",
    "\n",
    "from sklearn.datasets import load_boston\n",
    "\n",
    "import math\n",
    "import numpy as np\n",
    "import pandas as pd\n",
    "# from plotly.subplots import make_subplots\n",
    "# import plotly.graph_objects as go\n",
    "from matplotlib import pyplot as plt \n",
    "import seaborn as sns\n",
    "\n",
    "from sklearn.model_selection import train_test_split\n",
    "from keras.models import Sequential\n",
    "from keras.layers import Dense\n",
    "\n",
    "from sklearn.metrics import mean_squared_error, mean_absolute_error\n",
    "\n",
    "plt.style.use(\"ggplot\")\n",
    "%matplotlib inline"
   ],
   "outputs": [],
   "metadata": {}
  },
  {
   "cell_type": "code",
   "execution_count": 2,
   "source": [
    "#Import Dataset\n",
    "\n",
    "boston_dataset = load_boston()\n",
    "df = pd.DataFrame(boston_dataset.data, columns=boston_dataset.feature_names)\n",
    "\n",
    "df['MEDV'] = boston_dataset.target\n",
    "df = df[[\"LSTAT\",\"PTRATIO\",\"RM\",\"MEDV\"]]\n",
    "df.head()"
   ],
   "outputs": [
    {
     "output_type": "execute_result",
     "data": {
      "text/html": [
       "<div>\n",
       "<style scoped>\n",
       "    .dataframe tbody tr th:only-of-type {\n",
       "        vertical-align: middle;\n",
       "    }\n",
       "\n",
       "    .dataframe tbody tr th {\n",
       "        vertical-align: top;\n",
       "    }\n",
       "\n",
       "    .dataframe thead th {\n",
       "        text-align: right;\n",
       "    }\n",
       "</style>\n",
       "<table border=\"1\" class=\"dataframe\">\n",
       "  <thead>\n",
       "    <tr style=\"text-align: right;\">\n",
       "      <th></th>\n",
       "      <th>LSTAT</th>\n",
       "      <th>PTRATIO</th>\n",
       "      <th>RM</th>\n",
       "      <th>MEDV</th>\n",
       "    </tr>\n",
       "  </thead>\n",
       "  <tbody>\n",
       "    <tr>\n",
       "      <th>0</th>\n",
       "      <td>4.98</td>\n",
       "      <td>15.3</td>\n",
       "      <td>6.575</td>\n",
       "      <td>24.0</td>\n",
       "    </tr>\n",
       "    <tr>\n",
       "      <th>1</th>\n",
       "      <td>9.14</td>\n",
       "      <td>17.8</td>\n",
       "      <td>6.421</td>\n",
       "      <td>21.6</td>\n",
       "    </tr>\n",
       "    <tr>\n",
       "      <th>2</th>\n",
       "      <td>4.03</td>\n",
       "      <td>17.8</td>\n",
       "      <td>7.185</td>\n",
       "      <td>34.7</td>\n",
       "    </tr>\n",
       "    <tr>\n",
       "      <th>3</th>\n",
       "      <td>2.94</td>\n",
       "      <td>18.7</td>\n",
       "      <td>6.998</td>\n",
       "      <td>33.4</td>\n",
       "    </tr>\n",
       "    <tr>\n",
       "      <th>4</th>\n",
       "      <td>5.33</td>\n",
       "      <td>18.7</td>\n",
       "      <td>7.147</td>\n",
       "      <td>36.2</td>\n",
       "    </tr>\n",
       "  </tbody>\n",
       "</table>\n",
       "</div>"
      ],
      "text/plain": [
       "   LSTAT  PTRATIO     RM  MEDV\n",
       "0   4.98     15.3  6.575  24.0\n",
       "1   9.14     17.8  6.421  21.6\n",
       "2   4.03     17.8  7.185  34.7\n",
       "3   2.94     18.7  6.998  33.4\n",
       "4   5.33     18.7  7.147  36.2"
      ]
     },
     "metadata": {},
     "execution_count": 2
    }
   ],
   "metadata": {}
  },
  {
   "cell_type": "code",
   "execution_count": 3,
   "source": [
    "#Data Visualization\n",
    "\n",
    "total_items = len(df.columns)\n",
    "items_per_row = 4\n",
    "total_rows = math.ceil(total_items / items_per_row)\n",
    "# fig = make_subplots(rows=total_rows, cols=items_per_row)\n",
    "cur_row = 1\n",
    "cur_col = 1\n",
    "fig, ax = plt.subplots(1, 4, figsize = (10, 5), constrained_layout = True)\n",
    "\n",
    "for idx, col in enumerate(df.columns):\n",
    "    sns.boxplot(y=col, data=df, ax=ax[idx])\n",
    "    ax[idx].set_title(col)\n",
    "\n",
    "plt.show()"
   ],
   "outputs": [
    {
     "output_type": "display_data",
     "data": {
      "image/png": "[encoded data removed]",
      "text/plain": [
       "<Figure size 720x360 with 4 Axes>"
      ]
     },
     "metadata": {
      "needs_background": "light"
     }
    }
   ],
   "metadata": {}
  },
  {
   "cell_type": "code",
   "execution_count": 4,
   "source": [
    "X = df.loc[:, df.columns != 'MEDV']\n",
    "y = df.loc[:, df.columns == 'MEDV']\n",
    "X_train, X_test, y_train, y_test = train_test_split(X, y, test_size=0.3, random_state=123)"
   ],
   "outputs": [],
   "metadata": {}
  },
  {
   "cell_type": "code",
   "execution_count": 5,
   "source": [
    "#Data Preprocessing\n",
    "\n",
    "mean = X_train.mean(axis=0)\n",
    "std = X_train.std(axis=0)\n",
    "X_train = (X_train - mean) / std\n",
    "X_test = (X_test - mean) / std"
   ],
   "outputs": [],
   "metadata": {}
  },
  {
   "cell_type": "code",
   "execution_count": 6,
   "source": [
    "def getModel(input_shape = (3, )):\n",
    "    model = Sequential()\n",
    "    model.add(Dense(128, input_shape=input_shape, activation='relu'))\n",
    "    model.add(Dense(64, activation='relu'))\n",
    "    model.add(Dense(1, activation='linear'))\n",
    "\n",
    "    model.summary()\n",
    "\n",
    "    return model"
   ],
   "outputs": [],
   "metadata": {}
  },
  {
   "cell_type": "code",
   "execution_count": 7,
   "source": [
    "#Model Build, SGD\n",
    "\n",
    "sgdModel = getModel()\n",
    "sgdModel.compile(optimizer='SGD', loss='mse', metrics=['mae'])"
   ],
   "outputs": [
    {
     "output_type": "stream",
     "name": "stderr",
     "text": [
      "2021-10-02 23:00:14.665976: I tensorflow/stream_executor/cuda/cuda_gpu_executor.cc:939] successful NUMA node read from SysFS had negative value (-1), but there must be at least one NUMA node, so returning NUMA node zero\n",
      "2021-10-02 23:00:14.673796: I tensorflow/stream_executor/cuda/cuda_gpu_executor.cc:939] successful NUMA node read from SysFS had negative value (-1), but there must be at least one NUMA node, so returning NUMA node zero\n",
      "2021-10-02 23:00:14.674181: I tensorflow/stream_executor/cuda/cuda_gpu_executor.cc:939] successful NUMA node read from SysFS had negative value (-1), but there must be at least one NUMA node, so returning NUMA node zero\n"
     ]
    },
    {
     "output_type": "stream",
     "name": "stdout",
     "text": [
      "Model: \"sequential\"\n",
      "_________________________________________________________________\n",
      "Layer (type)                 Output Shape              Param #   \n",
      "=================================================================\n",
      "dense (Dense)                (None, 128)               512       \n",
      "_________________________________________________________________\n",
      "dense_1 (Dense)              (None, 64)                8256      \n",
      "_________________________________________________________________\n",
      "dense_2 (Dense)              (None, 1)                 65        \n",
      "=================================================================\n",
      "Total params: 8,833\n",
      "Trainable params: 8,833\n",
      "Non-trainable params: 0\n",
      "_________________________________________________________________\n"
     ]
    },
    {
     "output_type": "stream",
     "name": "stderr",
     "text": [
      "2021-10-02 23:00:14.675274: I tensorflow/core/platform/cpu_feature_guard.cc:151] This TensorFlow binary is optimized with oneAPI Deep Neural Network Library (oneDNN) to use the following CPU instructions in performance-critical operations:  AVX2 FMA\n",
      "To enable them in other operations, rebuild TensorFlow with the appropriate compiler flags.\n",
      "2021-10-02 23:00:14.675964: I tensorflow/stream_executor/cuda/cuda_gpu_executor.cc:939] successful NUMA node read from SysFS had negative value (-1), but there must be at least one NUMA node, so returning NUMA node zero\n",
      "2021-10-02 23:00:14.676299: I tensorflow/stream_executor/cuda/cuda_gpu_executor.cc:939] successful NUMA node read from SysFS had negative value (-1), but there must be at least one NUMA node, so returning NUMA node zero\n",
      "2021-10-02 23:00:14.676542: I tensorflow/stream_executor/cuda/cuda_gpu_executor.cc:939] successful NUMA node read from SysFS had negative value (-1), but there must be at least one NUMA node, so returning NUMA node zero\n",
      "2021-10-02 23:00:15.119975: I tensorflow/stream_executor/cuda/cuda_gpu_executor.cc:939] successful NUMA node read from SysFS had negative value (-1), but there must be at least one NUMA node, so returning NUMA node zero\n",
      "2021-10-02 23:00:15.120301: I tensorflow/stream_executor/cuda/cuda_gpu_executor.cc:939] successful NUMA node read from SysFS had negative value (-1), but there must be at least one NUMA node, so returning NUMA node zero\n",
      "2021-10-02 23:00:15.120560: I tensorflow/stream_executor/cuda/cuda_gpu_executor.cc:939] successful NUMA node read from SysFS had negative value (-1), but there must be at least one NUMA node, so returning NUMA node zero\n",
      "2021-10-02 23:00:15.120796: I tensorflow/core/common_runtime/gpu/gpu_device.cc:1525] Created device /job:localhost/replica:0/task:0/device:GPU:0 with 1646 MB memory:  -> device: 0, name: NVIDIA GeForce GTX 1650, pci bus id: 0000:01:00.0, compute capability: 7.5\n"
     ]
    }
   ],
   "metadata": {}
  },
  {
   "cell_type": "code",
   "execution_count": 8,
   "source": [
    "#Model Build, Adam\n",
    "\n",
    "adamModel = getModel()\n",
    "adamModel.compile(optimizer='Adam', loss='mse', metrics=['mae'])"
   ],
   "outputs": [
    {
     "output_type": "stream",
     "name": "stdout",
     "text": [
      "Model: \"sequential_1\"\n",
      "_________________________________________________________________\n",
      "Layer (type)                 Output Shape              Param #   \n",
      "=================================================================\n",
      "dense_3 (Dense)              (None, 128)               512       \n",
      "_________________________________________________________________\n",
      "dense_4 (Dense)              (None, 64)                8256      \n",
      "_________________________________________________________________\n",
      "dense_5 (Dense)              (None, 1)                 65        \n",
      "=================================================================\n",
      "Total params: 8,833\n",
      "Trainable params: 8,833\n",
      "Non-trainable params: 0\n",
      "_________________________________________________________________\n"
     ]
    }
   ],
   "metadata": {}
  },
  {
   "cell_type": "code",
   "execution_count": 9,
   "source": [
    "sgdHist = sgdModel.fit(X_train, y_train, epochs=100, validation_split=0.05)"
   ],
   "outputs": [
    {
     "output_type": "stream",
     "name": "stdout",
     "text": [
      "Epoch 1/100\n",
      "11/11 [==============================] - 1s 12ms/step - loss: 299.7924 - mae: 13.9345 - val_loss: 265.1730 - val_mae: 14.4106\n",
      "Epoch 2/100\n",
      "11/11 [==============================] - 0s 3ms/step - loss: 164.8086 - mae: 9.5090 - val_loss: 45.0597 - val_mae: 5.1860\n",
      "Epoch 3/100\n",
      "11/11 [==============================] - 0s 3ms/step - loss: 46.1914 - mae: 4.4908 - val_loss: 9.9807 - val_mae: 2.3484\n",
      "Epoch 4/100\n",
      "11/11 [==============================] - 0s 3ms/step - loss: 24.0461 - mae: 3.3004 - val_loss: 33.7952 - val_mae: 4.3114\n",
      "Epoch 5/100\n",
      "11/11 [==============================] - 0s 3ms/step - loss: 26.1995 - mae: 3.5918 - val_loss: 27.2460 - val_mae: 3.8027\n",
      "Epoch 6/100\n",
      "11/11 [==============================] - 0s 3ms/step - loss: 16.3761 - mae: 2.7077 - val_loss: 11.1988 - val_mae: 2.5210\n",
      "Epoch 7/100\n",
      "11/11 [==============================] - 0s 3ms/step - loss: 16.5045 - mae: 2.7813 - val_loss: 14.7621 - val_mae: 2.5059\n",
      "Epoch 8/100\n",
      "11/11 [==============================] - 0s 3ms/step - loss: 23.7655 - mae: 3.3929 - val_loss: 45.1439 - val_mae: 4.8808\n",
      "Epoch 9/100\n",
      "11/11 [==============================] - 0s 3ms/step - loss: 23.4428 - mae: 3.2014 - val_loss: 19.1395 - val_mae: 3.1546\n",
      "Epoch 10/100\n",
      "11/11 [==============================] - 0s 3ms/step - loss: 21.1012 - mae: 3.1717 - val_loss: 19.0737 - val_mae: 3.0164\n",
      "Epoch 11/100\n",
      "11/11 [==============================] - 0s 3ms/step - loss: 16.1119 - mae: 2.7690 - val_loss: 25.6221 - val_mae: 4.2865\n",
      "Epoch 12/100\n",
      "11/11 [==============================] - 0s 3ms/step - loss: 17.3906 - mae: 2.9495 - val_loss: 21.0742 - val_mae: 3.1505\n",
      "Epoch 13/100\n",
      "11/11 [==============================] - 0s 3ms/step - loss: 21.0141 - mae: 3.1661 - val_loss: 29.2281 - val_mae: 4.0666\n",
      "Epoch 14/100\n",
      "11/11 [==============================] - 0s 3ms/step - loss: 16.2849 - mae: 2.8142 - val_loss: 16.2755 - val_mae: 2.7207\n",
      "Epoch 15/100\n",
      "11/11 [==============================] - 0s 3ms/step - loss: 16.7553 - mae: 2.9399 - val_loss: 15.1786 - val_mae: 2.5460\n",
      "Epoch 16/100\n",
      "11/11 [==============================] - 0s 3ms/step - loss: 31.1421 - mae: 3.6752 - val_loss: 20.2292 - val_mae: 3.4530\n",
      "Epoch 17/100\n",
      "11/11 [==============================] - 0s 3ms/step - loss: 15.4392 - mae: 2.7827 - val_loss: 13.1515 - val_mae: 2.6554\n",
      "Epoch 18/100\n",
      "11/11 [==============================] - 0s 3ms/step - loss: 17.9053 - mae: 3.0051 - val_loss: 30.4014 - val_mae: 4.0330\n",
      "Epoch 19/100\n",
      "11/11 [==============================] - 0s 3ms/step - loss: 18.7257 - mae: 3.0077 - val_loss: 20.4198 - val_mae: 3.2234\n",
      "Epoch 20/100\n",
      "11/11 [==============================] - 0s 3ms/step - loss: 13.8962 - mae: 2.5813 - val_loss: 15.3355 - val_mae: 3.1075\n",
      "Epoch 21/100\n",
      "11/11 [==============================] - 0s 3ms/step - loss: 17.1105 - mae: 2.9477 - val_loss: 14.7731 - val_mae: 2.6237\n",
      "Epoch 22/100\n",
      "11/11 [==============================] - 0s 3ms/step - loss: 23.2331 - mae: 3.4374 - val_loss: 20.3225 - val_mae: 3.2449\n",
      "Epoch 23/100\n",
      "11/11 [==============================] - 0s 3ms/step - loss: 14.2848 - mae: 2.6460 - val_loss: 17.3836 - val_mae: 2.8328\n",
      "Epoch 24/100\n",
      "11/11 [==============================] - 0s 3ms/step - loss: 18.9018 - mae: 3.0715 - val_loss: 17.2128 - val_mae: 3.1543\n",
      "Epoch 25/100\n",
      "11/11 [==============================] - 0s 3ms/step - loss: 14.8398 - mae: 2.7153 - val_loss: 18.3147 - val_mae: 2.7698\n",
      "Epoch 26/100\n",
      "11/11 [==============================] - 0s 3ms/step - loss: 18.3197 - mae: 2.9754 - val_loss: 18.7672 - val_mae: 3.0224\n",
      "Epoch 27/100\n",
      "11/11 [==============================] - 0s 3ms/step - loss: 19.0564 - mae: 3.0800 - val_loss: 22.6435 - val_mae: 3.5153\n",
      "Epoch 28/100\n",
      "11/11 [==============================] - 0s 3ms/step - loss: 16.6789 - mae: 2.8737 - val_loss: 16.5827 - val_mae: 2.8119\n",
      "Epoch 29/100\n",
      "11/11 [==============================] - 0s 3ms/step - loss: 15.0508 - mae: 2.6477 - val_loss: 21.1249 - val_mae: 3.4287\n",
      "Epoch 30/100\n",
      "11/11 [==============================] - 0s 3ms/step - loss: 17.2861 - mae: 2.8818 - val_loss: 25.9129 - val_mae: 3.6983\n",
      "Epoch 31/100\n",
      "11/11 [==============================] - 0s 3ms/step - loss: 15.1446 - mae: 2.7545 - val_loss: 24.9107 - val_mae: 3.6813\n",
      "Epoch 32/100\n",
      "11/11 [==============================] - 0s 3ms/step - loss: 13.9780 - mae: 2.5927 - val_loss: 18.1117 - val_mae: 3.1700\n",
      "Epoch 33/100\n",
      "11/11 [==============================] - 0s 3ms/step - loss: 15.4381 - mae: 2.7147 - val_loss: 26.0711 - val_mae: 3.4925\n",
      "Epoch 34/100\n",
      "11/11 [==============================] - 0s 3ms/step - loss: 14.9397 - mae: 2.6785 - val_loss: 21.0361 - val_mae: 3.1890\n",
      "Epoch 35/100\n",
      "11/11 [==============================] - 0s 3ms/step - loss: 17.2062 - mae: 2.9077 - val_loss: 18.4265 - val_mae: 3.1798\n",
      "Epoch 36/100\n",
      "11/11 [==============================] - 0s 3ms/step - loss: 13.4612 - mae: 2.5689 - val_loss: 44.0245 - val_mae: 4.2646\n",
      "Epoch 37/100\n",
      "11/11 [==============================] - 0s 3ms/step - loss: 15.4062 - mae: 2.8447 - val_loss: 22.4685 - val_mae: 3.2174\n",
      "Epoch 38/100\n",
      "11/11 [==============================] - 0s 3ms/step - loss: 14.7013 - mae: 2.7468 - val_loss: 29.8005 - val_mae: 3.4994\n",
      "Epoch 39/100\n",
      "11/11 [==============================] - 0s 3ms/step - loss: 17.3906 - mae: 2.9718 - val_loss: 60.2230 - val_mae: 5.7876\n",
      "Epoch 40/100\n",
      "11/11 [==============================] - 0s 3ms/step - loss: 21.1475 - mae: 3.1070 - val_loss: 35.5124 - val_mae: 4.3274\n",
      "Epoch 41/100\n",
      "11/11 [==============================] - 0s 3ms/step - loss: 18.5860 - mae: 3.0322 - val_loss: 34.9635 - val_mae: 4.0107\n",
      "Epoch 42/100\n",
      "11/11 [==============================] - 0s 4ms/step - loss: 14.2018 - mae: 2.5958 - val_loss: 59.1296 - val_mae: 4.9522\n",
      "Epoch 43/100\n",
      "11/11 [==============================] - 0s 3ms/step - loss: 16.8858 - mae: 2.8724 - val_loss: 35.2159 - val_mae: 4.5109\n",
      "Epoch 44/100\n",
      "11/11 [==============================] - 0s 4ms/step - loss: 15.2460 - mae: 2.7723 - val_loss: 41.2822 - val_mae: 3.9879\n",
      "Epoch 45/100\n",
      "11/11 [==============================] - 0s 3ms/step - loss: 14.8103 - mae: 2.7062 - val_loss: 69.6278 - val_mae: 5.8366\n",
      "Epoch 46/100\n",
      "11/11 [==============================] - 0s 3ms/step - loss: 13.4352 - mae: 2.6602 - val_loss: 55.4965 - val_mae: 4.7851\n",
      "Epoch 47/100\n",
      "11/11 [==============================] - 0s 3ms/step - loss: 18.0938 - mae: 3.0180 - val_loss: 75.1206 - val_mae: 5.7509\n",
      "Epoch 48/100\n",
      "11/11 [==============================] - 0s 3ms/step - loss: 15.5954 - mae: 2.8184 - val_loss: 54.5192 - val_mae: 4.3293\n",
      "Epoch 49/100\n",
      "11/11 [==============================] - 0s 3ms/step - loss: 18.5436 - mae: 3.0115 - val_loss: 37.5079 - val_mae: 3.7046\n",
      "Epoch 50/100\n",
      "11/11 [==============================] - 0s 3ms/step - loss: 12.7850 - mae: 2.5634 - val_loss: 50.7055 - val_mae: 4.6277\n",
      "Epoch 51/100\n",
      "11/11 [==============================] - 0s 3ms/step - loss: 13.8822 - mae: 2.5266 - val_loss: 45.7379 - val_mae: 4.1387\n",
      "Epoch 52/100\n",
      "11/11 [==============================] - 0s 3ms/step - loss: 13.9033 - mae: 2.6177 - val_loss: 59.9390 - val_mae: 4.6812\n",
      "Epoch 53/100\n",
      "11/11 [==============================] - 0s 5ms/step - loss: 20.0159 - mae: 3.1052 - val_loss: 50.0700 - val_mae: 4.4240\n",
      "Epoch 54/100\n",
      "11/11 [==============================] - 0s 3ms/step - loss: 13.2216 - mae: 2.5964 - val_loss: 115.1064 - val_mae: 5.7171\n",
      "Epoch 55/100\n",
      "11/11 [==============================] - 0s 3ms/step - loss: 13.6338 - mae: 2.5768 - val_loss: 79.4038 - val_mae: 5.2014\n",
      "Epoch 56/100\n",
      "11/11 [==============================] - 0s 3ms/step - loss: 13.1207 - mae: 2.5788 - val_loss: 66.3731 - val_mae: 5.1611\n",
      "Epoch 57/100\n",
      "11/11 [==============================] - 0s 3ms/step - loss: 12.4274 - mae: 2.3575 - val_loss: 57.4868 - val_mae: 4.3089\n",
      "Epoch 58/100\n",
      "11/11 [==============================] - 0s 3ms/step - loss: 13.4486 - mae: 2.5659 - val_loss: 78.0550 - val_mae: 4.5978\n",
      "Epoch 59/100\n",
      "11/11 [==============================] - 0s 3ms/step - loss: 11.8834 - mae: 2.4038 - val_loss: 79.2547 - val_mae: 5.6487\n",
      "Epoch 60/100\n",
      "11/11 [==============================] - 0s 3ms/step - loss: 14.7501 - mae: 2.6857 - val_loss: 67.2237 - val_mae: 4.3670\n",
      "Epoch 61/100\n",
      "11/11 [==============================] - 0s 3ms/step - loss: 12.3676 - mae: 2.4546 - val_loss: 77.6880 - val_mae: 4.3986\n",
      "Epoch 62/100\n",
      "11/11 [==============================] - 0s 4ms/step - loss: 12.8817 - mae: 2.5399 - val_loss: 84.7145 - val_mae: 5.7140\n",
      "Epoch 63/100\n",
      "11/11 [==============================] - 0s 4ms/step - loss: 13.9966 - mae: 2.5738 - val_loss: 68.1753 - val_mae: 4.5477\n",
      "Epoch 64/100\n",
      "11/11 [==============================] - 0s 4ms/step - loss: 13.2048 - mae: 2.5789 - val_loss: 103.8063 - val_mae: 5.8899\n",
      "Epoch 65/100\n",
      "11/11 [==============================] - 0s 3ms/step - loss: 15.5337 - mae: 2.7938 - val_loss: 80.4443 - val_mae: 5.0830\n",
      "Epoch 66/100\n",
      "11/11 [==============================] - 0s 3ms/step - loss: 14.8272 - mae: 2.7150 - val_loss: 60.4444 - val_mae: 4.4673\n",
      "Epoch 67/100\n",
      "11/11 [==============================] - 0s 3ms/step - loss: 13.6642 - mae: 2.6110 - val_loss: 92.4569 - val_mae: 5.0062\n",
      "Epoch 68/100\n",
      "11/11 [==============================] - 0s 3ms/step - loss: 11.8667 - mae: 2.3427 - val_loss: 83.7621 - val_mae: 5.0493\n",
      "Epoch 69/100\n",
      "11/11 [==============================] - 0s 3ms/step - loss: 14.3542 - mae: 2.7087 - val_loss: 77.1857 - val_mae: 5.1801\n",
      "Epoch 70/100\n",
      "11/11 [==============================] - 0s 3ms/step - loss: 12.1004 - mae: 2.3716 - val_loss: 74.7057 - val_mae: 5.2014\n",
      "Epoch 71/100\n",
      "11/11 [==============================] - 0s 3ms/step - loss: 15.1306 - mae: 2.6995 - val_loss: 82.8623 - val_mae: 4.7855\n",
      "Epoch 72/100\n",
      "11/11 [==============================] - 0s 3ms/step - loss: 18.3223 - mae: 2.7983 - val_loss: 82.3035 - val_mae: 4.8981\n",
      "Epoch 73/100\n",
      "11/11 [==============================] - 0s 2ms/step - loss: 11.9247 - mae: 2.3992 - val_loss: 88.3783 - val_mae: 4.5089\n",
      "Epoch 74/100\n",
      "11/11 [==============================] - 0s 3ms/step - loss: 13.9025 - mae: 2.5543 - val_loss: 100.1749 - val_mae: 6.6210\n",
      "Epoch 75/100\n",
      "11/11 [==============================] - 0s 3ms/step - loss: 18.3891 - mae: 3.0454 - val_loss: 114.3727 - val_mae: 5.5922\n",
      "Epoch 76/100\n",
      "11/11 [==============================] - 0s 3ms/step - loss: 12.9048 - mae: 2.5370 - val_loss: 105.6210 - val_mae: 6.1876\n",
      "Epoch 77/100\n",
      "11/11 [==============================] - 0s 3ms/step - loss: 12.4377 - mae: 2.4663 - val_loss: 78.4744 - val_mae: 4.5198\n",
      "Epoch 78/100\n",
      "11/11 [==============================] - 0s 3ms/step - loss: 12.9005 - mae: 2.5724 - val_loss: 114.7813 - val_mae: 5.1953\n",
      "Epoch 79/100\n",
      "11/11 [==============================] - 0s 3ms/step - loss: 11.3753 - mae: 2.3123 - val_loss: 83.4415 - val_mae: 4.8919\n",
      "Epoch 80/100\n",
      "11/11 [==============================] - 0s 3ms/step - loss: 13.6558 - mae: 2.4431 - val_loss: 75.9001 - val_mae: 4.5260\n",
      "Epoch 81/100\n",
      "11/11 [==============================] - 0s 3ms/step - loss: 13.2500 - mae: 2.4714 - val_loss: 103.1954 - val_mae: 5.4940\n",
      "Epoch 82/100\n",
      "11/11 [==============================] - 0s 3ms/step - loss: 11.9999 - mae: 2.4421 - val_loss: 117.1471 - val_mae: 5.8367\n",
      "Epoch 83/100\n",
      "11/11 [==============================] - 0s 3ms/step - loss: 13.6380 - mae: 2.5928 - val_loss: 100.6222 - val_mae: 4.9841\n",
      "Epoch 84/100\n",
      "11/11 [==============================] - 0s 3ms/step - loss: 11.6616 - mae: 2.4240 - val_loss: 79.1286 - val_mae: 5.0303\n",
      "Epoch 85/100\n",
      "11/11 [==============================] - 0s 3ms/step - loss: 12.7378 - mae: 2.4557 - val_loss: 81.7378 - val_mae: 4.7808\n",
      "Epoch 86/100\n",
      "11/11 [==============================] - 0s 3ms/step - loss: 10.7918 - mae: 2.2416 - val_loss: 104.2080 - val_mae: 5.1110\n",
      "Epoch 87/100\n",
      "11/11 [==============================] - 0s 3ms/step - loss: 11.4760 - mae: 2.3567 - val_loss: 114.6519 - val_mae: 6.5191\n",
      "Epoch 88/100\n",
      "11/11 [==============================] - 0s 3ms/step - loss: 13.8579 - mae: 2.5409 - val_loss: 78.6461 - val_mae: 5.0889\n",
      "Epoch 89/100\n",
      "11/11 [==============================] - 0s 3ms/step - loss: 15.1930 - mae: 2.6681 - val_loss: 83.5597 - val_mae: 5.0516\n",
      "Epoch 90/100\n",
      "11/11 [==============================] - 0s 4ms/step - loss: 11.4754 - mae: 2.4027 - val_loss: 87.1953 - val_mae: 5.3977\n",
      "Epoch 91/100\n",
      "11/11 [==============================] - 0s 3ms/step - loss: 12.5948 - mae: 2.4739 - val_loss: 73.4745 - val_mae: 4.6340\n",
      "Epoch 92/100\n",
      "11/11 [==============================] - 0s 3ms/step - loss: 13.7673 - mae: 2.6093 - val_loss: 89.6285 - val_mae: 4.9600\n",
      "Epoch 93/100\n",
      "11/11 [==============================] - 0s 3ms/step - loss: 15.4367 - mae: 2.7156 - val_loss: 64.7927 - val_mae: 4.7004\n",
      "Epoch 94/100\n",
      "11/11 [==============================] - 0s 3ms/step - loss: 11.4490 - mae: 2.3346 - val_loss: 88.6870 - val_mae: 4.6009\n",
      "Epoch 95/100\n",
      "11/11 [==============================] - 0s 3ms/step - loss: 12.3263 - mae: 2.3875 - val_loss: 88.6974 - val_mae: 5.7722\n",
      "Epoch 96/100\n",
      "11/11 [==============================] - 0s 3ms/step - loss: 14.3471 - mae: 2.5902 - val_loss: 78.0576 - val_mae: 4.8382\n",
      "Epoch 97/100\n",
      "11/11 [==============================] - 0s 3ms/step - loss: 10.8901 - mae: 2.3067 - val_loss: 75.5926 - val_mae: 4.6521\n",
      "Epoch 98/100\n",
      "11/11 [==============================] - 0s 3ms/step - loss: 11.1015 - mae: 2.3166 - val_loss: 92.9741 - val_mae: 5.3237\n",
      "Epoch 99/100\n",
      "11/11 [==============================] - 0s 3ms/step - loss: 11.6587 - mae: 2.3883 - val_loss: 83.6206 - val_mae: 4.5151\n",
      "Epoch 100/100\n",
      "11/11 [==============================] - 0s 3ms/step - loss: 13.8375 - mae: 2.6334 - val_loss: 84.5695 - val_mae: 4.9672\n"
     ]
    }
   ],
   "metadata": {}
  },
  {
   "cell_type": "code",
   "execution_count": 10,
   "source": [
    "adamHist = adamModel.fit(X_train, y_train, epochs=100, validation_split=0.05)"
   ],
   "outputs": [
    {
     "output_type": "stream",
     "name": "stdout",
     "text": [
      "Epoch 1/100\n",
      "11/11 [==============================] - 1s 16ms/step - loss: 593.4476 - mae: 22.4992 - val_loss: 608.2567 - val_mae: 22.7520\n",
      "Epoch 2/100\n",
      "11/11 [==============================] - 0s 4ms/step - loss: 563.6331 - mae: 21.8090 - val_loss: 567.8696 - val_mae: 21.8878\n",
      "Epoch 3/100\n",
      "11/11 [==============================] - 0s 3ms/step - loss: 526.2596 - mae: 20.9352 - val_loss: 514.3203 - val_mae: 20.7010\n",
      "Epoch 4/100\n",
      "11/11 [==============================] - 0s 3ms/step - loss: 474.3501 - mae: 19.6732 - val_loss: 441.3012 - val_mae: 19.0063\n",
      "Epoch 5/100\n",
      "11/11 [==============================] - 0s 4ms/step - loss: 401.5680 - mae: 17.8770 - val_loss: 348.1927 - val_mae: 16.6749\n",
      "Epoch 6/100\n",
      "11/11 [==============================] - 0s 3ms/step - loss: 308.5736 - mae: 15.5453 - val_loss: 243.5938 - val_mae: 13.6635\n",
      "Epoch 7/100\n",
      "11/11 [==============================] - 0s 3ms/step - loss: 207.0182 - mae: 12.6547 - val_loss: 142.2526 - val_mae: 10.3633\n",
      "Epoch 8/100\n",
      "11/11 [==============================] - 0s 3ms/step - loss: 115.6211 - mae: 9.2634 - val_loss: 67.8731 - val_mae: 7.3564\n",
      "Epoch 9/100\n",
      "11/11 [==============================] - 0s 3ms/step - loss: 56.1627 - mae: 6.1206 - val_loss: 36.7214 - val_mae: 5.1777\n",
      "Epoch 10/100\n",
      "11/11 [==============================] - 0s 3ms/step - loss: 37.3788 - mae: 4.5866 - val_loss: 33.6709 - val_mae: 4.7840\n",
      "Epoch 11/100\n",
      "11/11 [==============================] - 0s 3ms/step - loss: 34.4257 - mae: 4.4465 - val_loss: 35.6354 - val_mae: 4.9272\n",
      "Epoch 12/100\n",
      "11/11 [==============================] - 0s 3ms/step - loss: 31.4234 - mae: 4.2246 - val_loss: 36.9630 - val_mae: 4.9363\n",
      "Epoch 13/100\n",
      "11/11 [==============================] - 0s 3ms/step - loss: 28.7530 - mae: 3.9926 - val_loss: 38.2596 - val_mae: 4.9437\n",
      "Epoch 14/100\n",
      "11/11 [==============================] - 0s 3ms/step - loss: 27.2069 - mae: 3.8784 - val_loss: 38.6623 - val_mae: 4.9078\n",
      "Epoch 15/100\n",
      "11/11 [==============================] - 0s 3ms/step - loss: 26.2859 - mae: 3.7959 - val_loss: 39.5235 - val_mae: 4.8853\n",
      "Epoch 16/100\n",
      "11/11 [==============================] - 0s 3ms/step - loss: 25.3813 - mae: 3.7172 - val_loss: 39.7786 - val_mae: 4.8756\n",
      "Epoch 17/100\n",
      "11/11 [==============================] - 0s 3ms/step - loss: 24.6533 - mae: 3.6536 - val_loss: 39.7029 - val_mae: 4.8870\n",
      "Epoch 18/100\n",
      "11/11 [==============================] - 0s 3ms/step - loss: 23.9832 - mae: 3.5887 - val_loss: 39.4840 - val_mae: 4.8826\n",
      "Epoch 19/100\n",
      "11/11 [==============================] - 0s 4ms/step - loss: 23.4490 - mae: 3.5352 - val_loss: 39.5567 - val_mae: 4.9013\n",
      "Epoch 20/100\n",
      "11/11 [==============================] - 0s 4ms/step - loss: 22.8326 - mae: 3.4829 - val_loss: 39.2115 - val_mae: 4.8616\n",
      "Epoch 21/100\n",
      "11/11 [==============================] - 0s 4ms/step - loss: 22.3353 - mae: 3.4394 - val_loss: 39.0378 - val_mae: 4.8613\n",
      "Epoch 22/100\n",
      "11/11 [==============================] - 0s 4ms/step - loss: 21.8444 - mae: 3.4083 - val_loss: 37.9458 - val_mae: 4.7853\n",
      "Epoch 23/100\n",
      "11/11 [==============================] - 0s 3ms/step - loss: 21.3840 - mae: 3.3698 - val_loss: 37.4840 - val_mae: 4.7389\n",
      "Epoch 24/100\n",
      "11/11 [==============================] - 0s 4ms/step - loss: 20.9504 - mae: 3.3246 - val_loss: 36.6978 - val_mae: 4.6826\n",
      "Epoch 25/100\n",
      "11/11 [==============================] - 0s 3ms/step - loss: 20.5310 - mae: 3.2871 - val_loss: 35.7151 - val_mae: 4.6194\n",
      "Epoch 26/100\n",
      "11/11 [==============================] - 0s 3ms/step - loss: 20.1508 - mae: 3.2655 - val_loss: 34.7409 - val_mae: 4.5312\n",
      "Epoch 27/100\n",
      "11/11 [==============================] - 0s 3ms/step - loss: 19.7860 - mae: 3.2394 - val_loss: 33.7937 - val_mae: 4.4676\n",
      "Epoch 28/100\n",
      "11/11 [==============================] - 0s 4ms/step - loss: 19.4297 - mae: 3.1961 - val_loss: 33.1777 - val_mae: 4.4070\n",
      "Epoch 29/100\n",
      "11/11 [==============================] - 0s 4ms/step - loss: 19.1091 - mae: 3.1770 - val_loss: 32.8420 - val_mae: 4.3564\n",
      "Epoch 30/100\n",
      "11/11 [==============================] - 0s 3ms/step - loss: 18.8013 - mae: 3.1588 - val_loss: 31.9453 - val_mae: 4.3069\n",
      "Epoch 31/100\n",
      "11/11 [==============================] - 0s 4ms/step - loss: 18.4866 - mae: 3.1237 - val_loss: 31.4283 - val_mae: 4.2541\n",
      "Epoch 32/100\n",
      "11/11 [==============================] - 0s 3ms/step - loss: 18.1867 - mae: 3.0874 - val_loss: 30.9725 - val_mae: 4.2085\n",
      "Epoch 33/100\n",
      "11/11 [==============================] - 0s 3ms/step - loss: 17.8982 - mae: 3.0534 - val_loss: 31.3556 - val_mae: 4.2490\n",
      "Epoch 34/100\n",
      "11/11 [==============================] - 0s 3ms/step - loss: 17.6964 - mae: 3.0367 - val_loss: 30.3503 - val_mae: 4.1616\n",
      "Epoch 35/100\n",
      "11/11 [==============================] - 0s 3ms/step - loss: 17.4109 - mae: 3.0179 - val_loss: 29.8858 - val_mae: 4.1021\n",
      "Epoch 36/100\n",
      "11/11 [==============================] - 0s 3ms/step - loss: 17.2785 - mae: 3.0001 - val_loss: 29.1731 - val_mae: 4.0347\n",
      "Epoch 37/100\n",
      "11/11 [==============================] - 0s 4ms/step - loss: 16.9955 - mae: 2.9710 - val_loss: 28.7214 - val_mae: 4.0036\n",
      "Epoch 38/100\n",
      "11/11 [==============================] - 0s 4ms/step - loss: 16.8081 - mae: 2.9511 - val_loss: 28.0964 - val_mae: 3.9517\n",
      "Epoch 39/100\n",
      "11/11 [==============================] - 0s 4ms/step - loss: 16.5676 - mae: 2.9251 - val_loss: 27.9088 - val_mae: 3.9202\n",
      "Epoch 40/100\n",
      "11/11 [==============================] - 0s 3ms/step - loss: 16.5696 - mae: 2.9527 - val_loss: 27.1233 - val_mae: 3.8444\n",
      "Epoch 41/100\n",
      "11/11 [==============================] - 0s 3ms/step - loss: 16.1835 - mae: 2.8879 - val_loss: 26.8720 - val_mae: 3.8163\n",
      "Epoch 42/100\n",
      "11/11 [==============================] - 0s 3ms/step - loss: 16.1247 - mae: 2.8703 - val_loss: 27.3566 - val_mae: 3.8528\n",
      "Epoch 43/100\n",
      "11/11 [==============================] - 0s 3ms/step - loss: 15.9127 - mae: 2.8520 - val_loss: 27.3244 - val_mae: 3.8404\n",
      "Epoch 44/100\n",
      "11/11 [==============================] - 0s 3ms/step - loss: 15.8105 - mae: 2.8470 - val_loss: 26.5981 - val_mae: 3.7682\n",
      "Epoch 45/100\n",
      "11/11 [==============================] - 0s 3ms/step - loss: 15.7724 - mae: 2.8409 - val_loss: 26.5104 - val_mae: 3.7547\n",
      "Epoch 46/100\n",
      "11/11 [==============================] - 0s 4ms/step - loss: 15.5544 - mae: 2.8161 - val_loss: 26.6086 - val_mae: 3.7550\n",
      "Epoch 47/100\n",
      "11/11 [==============================] - 0s 3ms/step - loss: 15.6975 - mae: 2.8451 - val_loss: 26.3483 - val_mae: 3.7181\n",
      "Epoch 48/100\n",
      "11/11 [==============================] - 0s 3ms/step - loss: 15.3460 - mae: 2.7781 - val_loss: 26.7614 - val_mae: 3.7557\n",
      "Epoch 49/100\n",
      "11/11 [==============================] - 0s 4ms/step - loss: 15.3450 - mae: 2.7833 - val_loss: 25.8476 - val_mae: 3.6613\n",
      "Epoch 50/100\n",
      "11/11 [==============================] - 0s 3ms/step - loss: 15.1836 - mae: 2.7742 - val_loss: 24.9132 - val_mae: 3.5758\n",
      "Epoch 51/100\n",
      "11/11 [==============================] - 0s 3ms/step - loss: 15.0815 - mae: 2.7626 - val_loss: 25.4228 - val_mae: 3.6064\n",
      "Epoch 52/100\n",
      "11/11 [==============================] - 0s 4ms/step - loss: 14.9664 - mae: 2.7485 - val_loss: 25.5507 - val_mae: 3.6020\n",
      "Epoch 53/100\n",
      "11/11 [==============================] - 0s 3ms/step - loss: 14.8875 - mae: 2.7356 - val_loss: 25.5742 - val_mae: 3.6065\n",
      "Epoch 54/100\n",
      "11/11 [==============================] - 0s 3ms/step - loss: 14.8433 - mae: 2.7184 - val_loss: 25.4305 - val_mae: 3.5798\n",
      "Epoch 55/100\n",
      "11/11 [==============================] - 0s 3ms/step - loss: 14.9128 - mae: 2.7540 - val_loss: 23.4815 - val_mae: 3.4214\n",
      "Epoch 56/100\n",
      "11/11 [==============================] - 0s 3ms/step - loss: 14.6369 - mae: 2.7231 - val_loss: 24.8895 - val_mae: 3.5314\n",
      "Epoch 57/100\n",
      "11/11 [==============================] - 0s 3ms/step - loss: 14.6278 - mae: 2.7093 - val_loss: 25.4007 - val_mae: 3.5922\n",
      "Epoch 58/100\n",
      "11/11 [==============================] - 0s 3ms/step - loss: 14.6324 - mae: 2.6905 - val_loss: 24.5656 - val_mae: 3.4730\n",
      "Epoch 59/100\n",
      "11/11 [==============================] - 0s 3ms/step - loss: 14.4815 - mae: 2.6941 - val_loss: 24.1471 - val_mae: 3.4289\n",
      "Epoch 60/100\n",
      "11/11 [==============================] - 0s 3ms/step - loss: 14.4692 - mae: 2.7131 - val_loss: 24.9501 - val_mae: 3.5089\n",
      "Epoch 61/100\n",
      "11/11 [==============================] - 0s 3ms/step - loss: 14.3749 - mae: 2.6753 - val_loss: 25.7504 - val_mae: 3.5649\n",
      "Epoch 62/100\n",
      "11/11 [==============================] - 0s 3ms/step - loss: 14.3423 - mae: 2.6567 - val_loss: 24.6288 - val_mae: 3.4871\n",
      "Epoch 63/100\n",
      "11/11 [==============================] - 0s 3ms/step - loss: 14.2027 - mae: 2.6675 - val_loss: 23.7605 - val_mae: 3.3919\n",
      "Epoch 64/100\n",
      "11/11 [==============================] - 0s 3ms/step - loss: 14.1580 - mae: 2.6634 - val_loss: 24.3180 - val_mae: 3.4460\n",
      "Epoch 65/100\n",
      "11/11 [==============================] - 0s 3ms/step - loss: 14.1519 - mae: 2.6564 - val_loss: 23.6448 - val_mae: 3.3821\n",
      "Epoch 66/100\n",
      "11/11 [==============================] - 0s 4ms/step - loss: 14.0966 - mae: 2.6375 - val_loss: 23.8480 - val_mae: 3.4028\n",
      "Epoch 67/100\n",
      "11/11 [==============================] - 0s 3ms/step - loss: 14.0510 - mae: 2.6416 - val_loss: 23.3266 - val_mae: 3.3244\n",
      "Epoch 68/100\n",
      "11/11 [==============================] - 0s 3ms/step - loss: 13.9725 - mae: 2.6315 - val_loss: 24.0057 - val_mae: 3.3622\n",
      "Epoch 69/100\n",
      "11/11 [==============================] - 0s 3ms/step - loss: 13.9685 - mae: 2.6224 - val_loss: 23.5777 - val_mae: 3.3501\n",
      "Epoch 70/100\n",
      "11/11 [==============================] - 0s 3ms/step - loss: 13.8772 - mae: 2.6112 - val_loss: 23.8265 - val_mae: 3.3624\n",
      "Epoch 71/100\n",
      "11/11 [==============================] - 0s 3ms/step - loss: 13.8870 - mae: 2.5946 - val_loss: 23.3708 - val_mae: 3.3111\n",
      "Epoch 72/100\n",
      "11/11 [==============================] - 0s 3ms/step - loss: 13.9324 - mae: 2.6239 - val_loss: 22.3244 - val_mae: 3.2234\n",
      "Epoch 73/100\n",
      "11/11 [==============================] - 0s 3ms/step - loss: 13.7644 - mae: 2.6163 - val_loss: 24.2442 - val_mae: 3.4101\n",
      "Epoch 74/100\n",
      "11/11 [==============================] - 0s 3ms/step - loss: 13.7682 - mae: 2.5813 - val_loss: 23.9007 - val_mae: 3.3256\n",
      "Epoch 75/100\n",
      "11/11 [==============================] - 0s 3ms/step - loss: 13.7887 - mae: 2.5833 - val_loss: 22.9683 - val_mae: 3.2544\n",
      "Epoch 76/100\n",
      "11/11 [==============================] - 0s 3ms/step - loss: 13.6563 - mae: 2.5893 - val_loss: 22.5310 - val_mae: 3.2232\n",
      "Epoch 77/100\n",
      "11/11 [==============================] - 0s 3ms/step - loss: 13.6241 - mae: 2.5797 - val_loss: 24.1616 - val_mae: 3.3688\n",
      "Epoch 78/100\n",
      "11/11 [==============================] - 0s 3ms/step - loss: 13.6305 - mae: 2.6009 - val_loss: 23.0382 - val_mae: 3.2608\n",
      "Epoch 79/100\n",
      "11/11 [==============================] - 0s 3ms/step - loss: 13.6225 - mae: 2.5773 - val_loss: 24.0048 - val_mae: 3.3595\n",
      "Epoch 80/100\n",
      "11/11 [==============================] - 0s 3ms/step - loss: 13.4941 - mae: 2.5752 - val_loss: 22.8070 - val_mae: 3.2021\n",
      "Epoch 81/100\n",
      "11/11 [==============================] - 0s 3ms/step - loss: 13.4435 - mae: 2.5558 - val_loss: 22.6618 - val_mae: 3.2072\n",
      "Epoch 82/100\n",
      "11/11 [==============================] - 0s 3ms/step - loss: 13.4711 - mae: 2.5622 - val_loss: 22.6671 - val_mae: 3.2119\n",
      "Epoch 83/100\n",
      "11/11 [==============================] - 0s 3ms/step - loss: 13.3947 - mae: 2.5414 - val_loss: 23.1035 - val_mae: 3.2603\n",
      "Epoch 84/100\n",
      "11/11 [==============================] - 0s 3ms/step - loss: 13.3136 - mae: 2.5377 - val_loss: 22.9590 - val_mae: 3.2495\n",
      "Epoch 85/100\n",
      "11/11 [==============================] - 0s 3ms/step - loss: 13.4030 - mae: 2.5434 - val_loss: 21.6097 - val_mae: 3.1076\n",
      "Epoch 86/100\n",
      "11/11 [==============================] - 0s 3ms/step - loss: 13.2816 - mae: 2.5514 - val_loss: 22.2540 - val_mae: 3.1698\n",
      "Epoch 87/100\n",
      "11/11 [==============================] - 0s 3ms/step - loss: 13.2256 - mae: 2.5467 - val_loss: 23.1322 - val_mae: 3.2504\n",
      "Epoch 88/100\n",
      "11/11 [==============================] - 0s 3ms/step - loss: 13.2611 - mae: 2.5325 - val_loss: 22.3558 - val_mae: 3.1824\n",
      "Epoch 89/100\n",
      "11/11 [==============================] - 0s 3ms/step - loss: 13.2613 - mae: 2.5272 - val_loss: 22.6159 - val_mae: 3.2006\n",
      "Epoch 90/100\n",
      "11/11 [==============================] - 0s 3ms/step - loss: 13.1507 - mae: 2.5191 - val_loss: 21.5178 - val_mae: 3.0481\n",
      "Epoch 91/100\n",
      "11/11 [==============================] - 0s 3ms/step - loss: 13.2110 - mae: 2.5388 - val_loss: 21.6481 - val_mae: 3.0871\n",
      "Epoch 92/100\n",
      "11/11 [==============================] - 0s 3ms/step - loss: 13.1719 - mae: 2.5063 - val_loss: 23.7397 - val_mae: 3.2527\n",
      "Epoch 93/100\n",
      "11/11 [==============================] - 0s 3ms/step - loss: 13.1559 - mae: 2.5103 - val_loss: 21.4979 - val_mae: 3.0968\n",
      "Epoch 94/100\n",
      "11/11 [==============================] - 0s 4ms/step - loss: 13.0767 - mae: 2.5140 - val_loss: 21.8338 - val_mae: 3.0687\n",
      "Epoch 95/100\n",
      "11/11 [==============================] - 0s 3ms/step - loss: 13.1043 - mae: 2.5014 - val_loss: 21.2252 - val_mae: 3.0534\n",
      "Epoch 96/100\n",
      "11/11 [==============================] - 0s 4ms/step - loss: 12.9950 - mae: 2.4915 - val_loss: 22.9399 - val_mae: 3.1795\n",
      "Epoch 97/100\n",
      "11/11 [==============================] - 0s 3ms/step - loss: 12.9306 - mae: 2.4921 - val_loss: 23.2881 - val_mae: 3.2022\n",
      "Epoch 98/100\n",
      "11/11 [==============================] - 0s 3ms/step - loss: 12.9421 - mae: 2.4948 - val_loss: 22.5870 - val_mae: 3.1225\n",
      "Epoch 99/100\n",
      "11/11 [==============================] - 0s 3ms/step - loss: 12.9045 - mae: 2.4819 - val_loss: 22.4961 - val_mae: 3.1274\n",
      "Epoch 100/100\n",
      "11/11 [==============================] - 0s 4ms/step - loss: 12.9621 - mae: 2.4944 - val_loss: 22.1128 - val_mae: 3.1054\n"
     ]
    }
   ],
   "metadata": {}
  },
  {
   "cell_type": "code",
   "execution_count": 17,
   "source": [
    "plt.figure(figsize = (5, 5))\n",
    "plt.plot(adamHist.history[\"loss\"], label = \"Train Loss\")\n",
    "plt.plot(adamHist.history[\"val_loss\"], label = \"Val Loss\")\n",
    "plt.legend()\n",
    "plt.title(\"Adam Model Loss\")\n",
    "plt.show()"
   ],
   "outputs": [
    {
     "output_type": "display_data",
     "data": {
      "image/png": "[encoded data removed]",
      "text/plain": [
       "<Figure size 360x360 with 1 Axes>"
      ]
     },
     "metadata": {
      "needs_background": "light"
     }
    }
   ],
   "metadata": {}
  },
  {
   "cell_type": "code",
   "execution_count": 19,
   "source": [
    "plt.figure(figsize = (5, 5))\n",
    "plt.plot(sgdHist.history[\"loss\"], label = \"Train Loss\")\n",
    "plt.plot(sgdHist.history[\"val_loss\"], label = \"Val Loss\")\n",
    "plt.legend()\n",
    "plt.title(\"SGD Model Loss\")\n",
    "plt.show()"
   ],
   "outputs": [
    {
     "output_type": "display_data",
     "data": {
      "image/png": "[encoded data removed]",
      "text/plain": [
       "<Figure size 360x360 with 1 Axes>"
      ]
     },
     "metadata": {
      "needs_background": "light"
     }
    }
   ],
   "metadata": {}
  },
  {
   "cell_type": "code",
   "execution_count": 20,
   "source": [
    "plt.figure(figsize = (5, 5))\n",
    "plt.plot(sgdHist.history[\"mae\"], label = \"Train MAE\")\n",
    "plt.plot(sgdHist.history[\"val_mae\"], label = \"Val MAE\")\n",
    "plt.legend()\n",
    "plt.title(\"SGD Model MAE\")\n",
    "plt.show()"
   ],
   "outputs": [
    {
     "output_type": "display_data",
     "data": {
      "image/png": "[encoded data removed]",
      "text/plain": [
       "<Figure size 360x360 with 1 Axes>"
      ]
     },
     "metadata": {
      "needs_background": "light"
     }
    }
   ],
   "metadata": {}
  },
  {
   "cell_type": "code",
   "execution_count": 21,
   "source": [
    "plt.figure(figsize = (5, 5))\n",
    "plt.plot(adamHist.history[\"mae\"], label = \"Train MAE\")\n",
    "plt.plot(adamHist.history[\"val_mae\"], label = \"Val MAE\")\n",
    "plt.legend()\n",
    "plt.title(\"Adam Model MAE\")\n",
    "plt.show()"
   ],
   "outputs": [
    {
     "output_type": "display_data",
     "data": {
      "image/png": "[encoded data removed]",
      "text/plain": [
       "<Figure size 360x360 with 1 Axes>"
      ]
     },
     "metadata": {
      "needs_background": "light"
     }
    }
   ],
   "metadata": {}
  },
  {
   "cell_type": "code",
   "execution_count": 23,
   "source": [
    "mse_nn, mae_nn = adamModel.evaluate(X_test, y_test)\n",
    "print('Mean squared error on test data: ', mse_nn)\n",
    "print('Mean absolute error on test data: ', mae_nn)"
   ],
   "outputs": [
    {
     "output_type": "stream",
     "name": "stdout",
     "text": [
      "5/5 [==============================] - 0s 2ms/step - loss: 26.5402 - mae: 3.2701\n",
      "Mean squared error on test data:  26.540212631225586\n",
      "Mean absolute error on test data:  3.270059823989868\n"
     ]
    }
   ],
   "metadata": {}
  },
  {
   "cell_type": "code",
   "execution_count": 24,
   "source": [
    "def Huber(y_true, y_pred, delta=1.0): \n",
    "    if(type(y_true) != np.ndarray):\n",
    "        y_true = np.array(y_true) \n",
    "    if(type(y_pred) != np.ndarray):\n",
    "        y_pred = np.array(y_pred)\n",
    "\n",
    "    diff = y_true - y_pred\n",
    "    norm = np.linalg.norm(diff)\n",
    "    if norm <= delta: \n",
    "        return 0.5*norm\n",
    "    else:\n",
    "        return delta*np.linalg.norm(diff - 0.5*delta, ord = 1)"
   ],
   "outputs": [],
   "metadata": {}
  },
  {
   "cell_type": "code",
   "execution_count": 26,
   "source": [
    "y_pred = adamModel.predict(X_test)\n",
    "hub_loss = Huber(y_test,y_pred)\n",
    "print(\"Huber loss:\",hub_loss)"
   ],
   "outputs": [
    {
     "output_type": "stream",
     "name": "stdout",
     "text": [
      "Huber loss: 514.062423324585\n"
     ]
    }
   ],
   "metadata": {}
  },
  {
   "cell_type": "code",
   "execution_count": 27,
   "source": [
    "def squaredEpsilonHingeLoss(y_true, y_pred, epsilon=0.2):\n",
    "    if(type(y_true) != np.ndarray):\n",
    "        y_true = np.array(y_true) \n",
    "    if(type(y_pred) != np.ndarray):\n",
    "        y_pred = np.array(y_pred)\n",
    "\n",
    "    diff = np.linalg.norm(y_true - y_pred, ord=2) - epsilon**2\n",
    "    loss = diff * (diff > 0.0)\n",
    "    return loss.mean()/2"
   ],
   "outputs": [],
   "metadata": {}
  },
  {
   "cell_type": "code",
   "execution_count": 28,
   "source": [
    "y_pred = adamModel.predict(X_test)\n",
    "sehl = squaredEpsilonHingeLoss(y_test,y_pred)\n",
    "print(\"Squared Epsilon Hinge Loss:\",sehl)"
   ],
   "outputs": [
    {
     "output_type": "stream",
     "name": "stdout",
     "text": [
      "Squared Epsilon Hinge Loss: 31.737330632703287\n"
     ]
    }
   ],
   "metadata": {}
  },
  {
   "cell_type": "code",
   "execution_count": 29,
   "source": [
    "from sklearn.linear_model import LinearRegression\n",
    "lr_model = LinearRegression()\n",
    "lr_model.fit(X_train, y_train)\n",
    "y_pred_lr = lr_model.predict(X_test)\n",
    "\n",
    "mse_lr = mean_squared_error(y_test, y_pred_lr)\n",
    "mae_lr = mean_absolute_error(y_test, y_pred_lr)\n",
    "\n",
    "print('Mean squared error on test data: ', mse_lr)\n",
    "print('Mean absolute error on test data: ', mae_lr)"
   ],
   "outputs": [
    {
     "output_type": "stream",
     "name": "stdout",
     "text": [
      "Mean squared error on test data:  35.889410929907434\n",
      "Mean absolute error on test data:  4.2079487254295795\n"
     ]
    }
   ],
   "metadata": {}
  },
  {
   "cell_type": "code",
   "execution_count": null,
   "source": [],
   "outputs": [],
   "metadata": {}
  }
 ],
 "metadata": {
  "kernelspec": {
   "name": "python3",
   "display_name": "Python 3.8.11 64-bit ('machine_learning': conda)"
  },
  "language_info": {
   "codemirror_mode": {
    "name": "ipython",
    "version": 3
   },
   "file_extension": ".py",
   "mimetype": "text/x-python",
   "name": "python",
   "nbconvert_exporter": "python",
   "pygments_lexer": "ipython3",
   "version": "3.8.11"
  },
  "interpreter": {
   "hash": "125fb9edb0687e7e40649f3d4ac076ed8f6387ce59a5df80ec89338b2a4e9129"
  }
 },
 "nbformat": 4,
 "nbformat_minor": 5
}