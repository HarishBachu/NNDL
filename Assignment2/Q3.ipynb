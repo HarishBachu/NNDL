{
 "cells": [
  {
   "cell_type": "markdown",
   "source": [
    "### Q 3. A group of 20 students studied 0 to 6 hours for the exam.  Some passed and others failed. Results are given below \n",
    "| Student | Hours studied - x | Result (0 – fail, 1 – pass) - y |\n",
    "| - | --- | --- |\n",
    "| 1   | 0.5  | 0 |\n",
    "| 2 | 0.75 | 0 |\n",
    "| 3 | 1.00 | 0 |\n",
    "| 4 | 1.25 | 0 |\n",
    "| 5 | 1.50 | 0 |\n",
    "| 6 | 1.75 | 0 |\n",
    "| 7 | 1.75 | 1 |\n",
    "| 8 | 2.00 | 0 |\n",
    "| 9 | 2.25 | 1 |\n",
    "| 10 | 2.50 | 0 |\n",
    "| 11 | 2.75 | 1 |\n",
    "| 12 | 3.00 | 0 |\n",
    "| 13 | 3.25 | 1 |\n",
    "| 14 | 3.50 | 0 |\n",
    "| 15 | 4.00 | 1 |\n",
    "| 16 | 4.25 | 1 |\n",
    "| 17 | 4.50 | 1 |\n",
    "| 18 | 4.75 | 1 |\n",
    "| 19 | 5.00 | 1 |\n",
    "| 20 | 5.50 | 1 |\n",
    "### (a). Write python code for scratch to build neural network model to determine the optimal linear hypothesis using linear regression to predict if a student passes or not based on the number hours studied with the use for stochastic gradient descent and Adam optimization algorithm with model parameters for α = 0.01 choose random values of weights and bias and epochs=10000.   Use appropriate regression loss function.\n",
    "### (b). (i).Write python code from scratch to determine the optimal logistic hypothesis using logistic regression to predict if a student passes or not based on the number hours studied with the use for stochastic gradient descent with model parameters for α = 0.01 choose random values of weights and bias and epochs=40000; Loss function: Binary Cross Entropy (BCE), Threshold value=0.5  (a) plot the cost function vs  epoch (b) Predict pass or failed result of your designed model on random study hours enter by you.  (ii) Repeat part (i) analysis with Dice Loss function.\n",
    "### (iii) Repeat part (i) analysis with Adam optimization algorithm.\n"
   ],
   "metadata": {}
  },
  {
   "cell_type": "code",
   "execution_count": 1,
   "source": [
    "import numpy as np \n",
    "import matplotlib.pyplot as plt \n",
    "\n",
    "from losses import binaryCrossEntropyLoss, MSE\n",
    "from activations import sigmoid, d_sigmoid\n",
    "\n",
    "plt.style.use(\"ggplot\")\n",
    "%matplotlib inline "
   ],
   "outputs": [],
   "metadata": {}
  },
  {
   "cell_type": "code",
   "execution_count": 2,
   "source": [
    "def init_params(shape):\n",
    "    return {\n",
    "        \"S_dW\" : np.zeros(shape), \n",
    "        \"V_dW\" : np.zeros(shape), \n",
    "        \"beta_1\" : 0.9, \n",
    "        \"beta_2\": 0.999, \n",
    "        \"epsilon\" : 10e-8 \n",
    "    }"
   ],
   "outputs": [],
   "metadata": {}
  },
  {
   "cell_type": "code",
   "execution_count": 3,
   "source": [
    "inputs = np.array([0.5, 0.75, 1.00, 1.25, 1.5, 1.75, 1.75, 2.00, 2.25, 2.5, 2.75, 3.00, 3.25, 3.5, 4.00, 4.25, 4.5, 4.75, 5.00, 5.50])\n",
    "\n",
    "X = np.append(np.ones((20, 1)), np.expand_dims(inputs, -1), axis = 1)\n",
    "Y = np.array([0, 0, 0, 0, 0, 0, 1, 0, 1, 0, 1, 0, 1, 0, 1, 1, 1, 1, 1, 1])\n",
    "Y = np.expand_dims(Y, -1) "
   ],
   "outputs": [],
   "metadata": {}
  },
  {
   "cell_type": "code",
   "execution_count": 4,
   "source": [
    "epochs_a = 10000 \n",
    "lr = 0.01 "
   ],
   "outputs": [],
   "metadata": {}
  },
  {
   "cell_type": "code",
   "execution_count": 5,
   "source": [
    "#Part a. Using MSE as question had asked for a linear hypotheses \n",
    "\n",
    "def SGD_MSE_Adam(X, Y, W, adam_params, lr): \n",
    "    n = len(X)\n",
    "\n",
    "    S_dW = adam_params[\"S_dW\"]\n",
    "    V_dW = adam_params[\"V_dW\"] \n",
    "    beta_1 = adam_params[\"beta_1\"]\n",
    "    beta_2 = adam_params[\"beta_2\"] \n",
    "    eps = adam_params[\"epsilon\"] \n",
    "\n",
    "    shuffle_n = np.random.permutation(n) \n",
    "    dW = np.zeros(W.shape) \n",
    "\n",
    "    for i in shuffle_n: \n",
    "        x = np.expand_dims(X[i].copy(), -1) \n",
    "        y_hat = x.T.dot(W) \n",
    "        dW -= x.dot(Y[i] - y_hat)*2/n \n",
    "\n",
    "        V_dW = beta_1*V_dW + (1-beta_1)*dW \n",
    "        S_dW = beta_2*S_dW + (1-beta_2)*np.square(dW) \n",
    "\n",
    "        W -= lr*V_dW/(np.sqrt(S_dW) + eps) \n",
    "\n",
    "    Y_hat = X.dot(W) \n",
    "    J = MSE(Y, Y_hat)\n",
    "\n",
    "    adam_params[\"S_dW\"] = S_dW \n",
    "    adam_params[\"V_dW\"] = V_dW\n",
    "\n",
    "    return W, J, adam_params"
   ],
   "outputs": [],
   "metadata": {}
  },
  {
   "cell_type": "code",
   "execution_count": 6,
   "source": [
    "from tqdm import tqdm, trange\n",
    "\n",
    "W_adam = np.random.randn(2, 1)\n",
    "adam_params = init_params(W_adam.shape) \n",
    "\n",
    "lossHist_adam = []\n",
    "weightHist_adam = [] \n",
    "for epoch in trange(epochs_a, ascii=False, desc=\"Training\", ncols=100):\n",
    "    W_adam, j, adam_params = SGD_MSE_Adam(X, Y, W_adam, adam_params, lr) \n",
    "    lossHist_adam.append(j) \n",
    "    weightHist_adam.append(W_adam.copy())"
   ],
   "outputs": [
    {
     "output_type": "stream",
     "name": "stderr",
     "text": [
      "Training: 100%|█████████████████████████████████████████████| 10000/10000 [00:05<00:00, 1791.39it/s]\n"
     ]
    }
   ],
   "metadata": {}
  },
  {
   "cell_type": "code",
   "execution_count": 7,
   "source": [
    "plt.plot(lossHist_adam)"
   ],
   "outputs": [
    {
     "output_type": "execute_result",
     "data": {
      "text/plain": [
       "[<matplotlib.lines.Line2D at 0x7f801889c150>]"
      ]
     },
     "metadata": {},
     "execution_count": 7
    },
    {
     "output_type": "display_data",
     "data": {
      "image/png": "[encoded data removed]",
      "text/plain": [
       "<Figure size 432x288 with 1 Axes>"
      ]
     },
     "metadata": {
      "needs_background": "light"
     }
    }
   ],
   "metadata": {}
  },
  {
   "cell_type": "code",
   "execution_count": 8,
   "source": [
    "Y_hat = sigmoid(X.dot(W_adam))\n",
    "d_sigmoid(Y_hat)\n",
    "# X.T.dot(-Y/Y_hat + (1-Y)/(1-Y_hat))"
   ],
   "outputs": [
    {
     "output_type": "execute_result",
     "data": {
      "text/plain": [
       "array([[0.23445081],\n",
       "       [0.23333538],\n",
       "       [0.23219194],\n",
       "       [0.23102495],\n",
       "       [0.22983908],\n",
       "       [0.22863917],\n",
       "       [0.22863917],\n",
       "       [0.22743016],\n",
       "       [0.22621697],\n",
       "       [0.22500445],\n",
       "       [0.22379735],\n",
       "       [0.22260016],\n",
       "       [0.22141715],\n",
       "       [0.22025229],\n",
       "       [0.21799107],\n",
       "       [0.21690084],\n",
       "       [0.21584097],\n",
       "       [0.21481355],\n",
       "       [0.21382029],\n",
       "       [0.21194126]])"
      ]
     },
     "metadata": {},
     "execution_count": 8
    }
   ],
   "metadata": {}
  },
  {
   "cell_type": "code",
   "execution_count": 9,
   "source": [
    "#Part b \n",
    "#(i) \n",
    "\n",
    "epochs_b = 400\n",
    "\n",
    "def GD_BCE(X, Y, W, lr):\n",
    "    n = len(X) \n",
    "    Y_hat = sigmoid(X.dot(W)) \n",
    "\n",
    "    dW = X.T.dot(d_sigmoid(Y_hat)*(-Y/Y_hat + (1-Y)/(1-Y_hat))) \n",
    "    W -= lr*dW \n",
    "    J = binaryCrossEntropyLoss(Y, sigmoid(X.dot(W))) \n",
    "\n",
    "    return W, J \n"
   ],
   "outputs": [],
   "metadata": {}
  },
  {
   "cell_type": "code",
   "execution_count": 10,
   "source": [
    "X.shape"
   ],
   "outputs": [
    {
     "output_type": "execute_result",
     "data": {
      "text/plain": [
       "(20, 2)"
      ]
     },
     "metadata": {},
     "execution_count": 10
    }
   ],
   "metadata": {}
  },
  {
   "cell_type": "code",
   "execution_count": 11,
   "source": [
    "W_gd_bce = np.random.randn(2, 1)\n",
    "lossHist_gd_bce = [] \n",
    "weightHist_gd_bce = []\n",
    "for epoch in range(epochs_b): \n",
    "    W_gd_bce, J = GD_BCE(X, Y, W_gd_bce, lr) \n",
    "    lossHist_gd_bce.append(J) \n",
    "    weightHist_gd_bce.append(W_gd_bce.copy())"
   ],
   "outputs": [],
   "metadata": {}
  },
  {
   "cell_type": "code",
   "execution_count": 15,
   "source": [
    "plt.plot(lossHist_gd_bce)\n",
    "plt.show()"
   ],
   "outputs": [
    {
     "output_type": "display_data",
     "data": {
      "image/png": "[encoded data removed]",
      "text/plain": [
       "<Figure size 432x288 with 1 Axes>"
      ]
     },
     "metadata": {
      "needs_background": "light"
     }
    }
   ],
   "metadata": {}
  },
  {
   "cell_type": "code",
   "execution_count": null,
   "source": [],
   "outputs": [],
   "metadata": {}
  }
 ],
 "metadata": {
  "orig_nbformat": 4,
  "language_info": {
   "name": "python",
   "version": "3.7.11",
   "mimetype": "text/x-python",
   "codemirror_mode": {
    "name": "ipython",
    "version": 3
   },
   "pygments_lexer": "ipython3",
   "nbconvert_exporter": "python",
   "file_extension": ".py"
  },
  "kernelspec": {
   "name": "python3",
   "display_name": "Python 3.7.11 64-bit ('machine_learning': conda)"
  },
  "interpreter": {
   "hash": "125fb9edb0687e7e40649f3d4ac076ed8f6387ce59a5df80ec89338b2a4e9129"
  }
 },
 "nbformat": 4,
 "nbformat_minor": 2
}