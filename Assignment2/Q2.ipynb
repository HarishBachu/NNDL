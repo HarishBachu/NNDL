{
 "cells": [
  {
   "cell_type": "markdown",
   "source": [
    "### Q.2. The neural network shown in Fig.1 has the following hyper parameters and input: Choose random weights and bias of the neuron and learning rate =0.01 and inputs to the neuron and target values are as follows.\n",
    "<img src=\"Q2_table.png\"> \n",
    "\n",
    "### (a).Write a python code for predicted the output of neural network for given set of inputs using Stochastic Gradient Descent algorithm for the loss functions: ((i) Mean Square Error  (ii)  Squared Epsilon Hinge Loss \n",
    "### (b)  Plot comparative loss curve \n",
    "### (c) repeat(a) and Adam optimization algorithm \n"
   ],
   "metadata": {}
  },
  {
   "cell_type": "code",
   "execution_count": 1,
   "source": [
    "import numpy as np \n",
    "import matplotlib.pyplot as plt \n",
    "\n",
    "from losses import MSE, squaredEpsilonHingeLoss\n",
    "plt.style.use(\"ggplot\") \n",
    "%matplotlib inline "
   ],
   "outputs": [],
   "metadata": {}
  },
  {
   "cell_type": "code",
   "execution_count": 2,
   "source": [
    "X = np.array([[1, 4, 1], [1, 2, 8], [1, 1, 0], [1, 3, 2], [1, 1, 4], [1, 6, 7]])            #Added column of 1's to account for bias terms \n",
    "Y = np.array([2, -14, 1, -1, -7, -8]) \n",
    "Y = np.expand_dims(Y, -1) \n",
    "\n",
    "W = np.random.randn(3, 1) \n",
    "lr = 0.01"
   ],
   "outputs": [],
   "metadata": {}
  },
  {
   "cell_type": "code",
   "execution_count": 3,
   "source": [
    "def init_params(shape):\n",
    "    return {\n",
    "        \"S_dW\" : np.zeros(shape), \n",
    "        \"V_dW\" : np.zeros(shape), \n",
    "        \"beta_1\" : 0.9, \n",
    "        \"beta_2\": 0.999, \n",
    "        \"epsilon\" : 10e-8 \n",
    "    }"
   ],
   "outputs": [],
   "metadata": {}
  },
  {
   "cell_type": "code",
   "execution_count": 4,
   "source": [
    "def SGD_MSE(X, Y, W, lr):\n",
    "    n = len(X) \n",
    "    shuffle_n = np.random.permutation(n)\n",
    "    dW = np.zeros(W.shape) \n",
    "\n",
    "    for i in shuffle_n: \n",
    "        x = np.expand_dims(X[i].copy(), -1)\n",
    "        y_hat = x.T.dot(W)    \n",
    "        dW = -x.dot(Y[i] - y_hat)*2/n \n",
    "        W -= lr*dW \n",
    "\n",
    "    J = MSE(Y, X.dot(W)) \n",
    "    # n = len(X) \n",
    "    return W, J \n",
    "\n",
    "def SGD_MSE_Adam(X, Y, W, adam_params, lr): \n",
    "    n = len(X)\n",
    "\n",
    "    S_dW = adam_params[\"S_dW\"]\n",
    "    V_dW = adam_params[\"V_dW\"] \n",
    "    beta_1 = adam_params[\"beta_1\"]\n",
    "    beta_2 = adam_params[\"beta_2\"] \n",
    "    eps = adam_params[\"epsilon\"] \n",
    "\n",
    "    shuffle_n = np.random.permutation(n) \n",
    "    dW = np.zeros(W.shape) \n",
    "\n",
    "    for i in shuffle_n: \n",
    "        x = np.expand_dims(X[i].copy(), -1) \n",
    "        y_hat = x.T.dot(W) \n",
    "        dW -= x.dot(Y[i] - y_hat)*2/n \n",
    "\n",
    "        V_dW = beta_1*V_dW + (1-beta_1)*dW \n",
    "        S_dW = beta_2*S_dW + (1-beta_2)*np.square(dW) \n",
    "\n",
    "        W -= lr*V_dW/(np.sqrt(S_dW) + eps) \n",
    "\n",
    "    Y_hat = X.dot(W) \n",
    "    J = MSE(Y, Y_hat)\n",
    "\n",
    "    adam_params[\"S_dW\"] = S_dW \n",
    "    adam_params[\"V_dW\"] = V_dW\n",
    "\n",
    "    return W, J, adam_params\n",
    "    \n",
    "\n",
    "\n",
    "# def SGD_SEHL(X, Y, W, lr): \n",
    "#     n = len(X) \n",
    "#     shuffle_n = np.random.permutation(n) \n",
    "#     dW = np.zeros(W.shape) \n",
    "\n",
    "#     for i in shuffle_n:\n",
    "#         x = np.expand_dims(X[i].copy(), -1) \n",
    "#         y_hat = x.T.dot(W) \n",
    "#         dW = "
   ],
   "outputs": [],
   "metadata": {}
  },
  {
   "cell_type": "code",
   "execution_count": 5,
   "source": [
    "epochs = 500\n",
    "\n",
    "W_sgd = np.random.randn(3, 1)\n",
    "lossHist_sgd = [] \n",
    "weightHist_sgd = []\n",
    "for epoch in range(epochs): \n",
    "    W_sgd, J= SGD_MSE(X, Y, W_sgd, lr) \n",
    "    lossHist_sgd.append(J) \n",
    "    weightHist_sgd.append(W_sgd.copy())\n",
    "\n",
    "\n",
    "W_adam = np.random.randn(3, 1)\n",
    "adam_params = init_params(W_adam.shape) \n",
    "\n",
    "lossHist_adam = []\n",
    "weightHist_adam = [] \n",
    "for epoch in range(epochs):\n",
    "    W_adam, j, adam_params = SGD_MSE_Adam(X, Y, W_adam, adam_params, lr) \n",
    "    lossHist_adam.append(j) \n",
    "    weightHist_adam.append(W_adam.copy())"
   ],
   "outputs": [],
   "metadata": {}
  },
  {
   "cell_type": "code",
   "execution_count": 6,
   "source": [
    "plt.figure(figsize = (10, 10))\n",
    "plt.plot(lossHist_sgd, label = \"Vanilla SGD\")\n",
    "plt.plot(lossHist_adam, label = \"Adam SGD\")\n",
    "plt.legend()\n",
    "plt.show()"
   ],
   "outputs": [
    {
     "output_type": "display_data",
     "data": {
      "image/png": "[encoded data removed]",
      "text/plain": [
       "<Figure size 720x720 with 1 Axes>"
      ]
     },
     "metadata": {
      "needs_background": "light"
     }
    }
   ],
   "metadata": {}
  },
  {
   "cell_type": "code",
   "execution_count": null,
   "source": [],
   "outputs": [],
   "metadata": {}
  }
 ],
 "metadata": {
  "orig_nbformat": 4,
  "language_info": {
   "name": "python",
   "version": "3.7.11",
   "mimetype": "text/x-python",
   "codemirror_mode": {
    "name": "ipython",
    "version": 3
   },
   "pygments_lexer": "ipython3",
   "nbconvert_exporter": "python",
   "file_extension": ".py"
  },
  "kernelspec": {
   "name": "python3",
   "display_name": "Python 3.7.11 64-bit ('machine_learning': conda)"
  },
  "interpreter": {
   "hash": "125fb9edb0687e7e40649f3d4ac076ed8f6387ce59a5df80ec89338b2a4e9129"
  }
 },
 "nbformat": 4,
 "nbformat_minor": 2
}