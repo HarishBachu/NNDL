{
 "cells": [
  {
   "cell_type": "markdown",
   "source": [
    "### Q.1. Write python code from scratch for simple Linear Regression problem, the ###following training data are given.\n",
    "###      X = [2,  2.5, 3, 3.5, 4, 4.5, 5, 5.5, 6]\n",
    "###      Y = [5.1, 6.1, 6.9, 7.8, 9.2, 9.9, 11.5, 12, 12.8]\n",
    "### The model Y as a linear function of X \n",
    "### (a) Use batch gradient descent learning algorithm to learn model parameters for α = 0.01 choose random values of weights and bias and epochs=1000.  Use MSE as loss function with an appropriate convergence criterion. \n",
    "### (b) Plot cost function (J) for the learning duration \n",
    "### (c) plot the regression line  \n",
    "### (d) repeat (b) to (c) for stochastic gradient descent  and Adam optimization algorithm \n",
    "### (e) Plot comparative loss curve\n"
   ],
   "metadata": {}
  },
  {
   "cell_type": "code",
   "execution_count": 1,
   "source": [
    "import numpy as np \n",
    "import matplotlib.pyplot as plt \n",
    "\n",
    "from losses import MSE \n",
    "\n",
    "plt.style.use(\"ggplot\") \n",
    "%matplotlib inline "
   ],
   "outputs": [],
   "metadata": {}
  },
  {
   "cell_type": "code",
   "execution_count": 2,
   "source": [
    "inputs = np.array([2, 2.5, 3, 3.5, 4, 4.5, 5, 5.5, 6])\n",
    "inputs = np.expand_dims(inputs, -1) \n",
    "X = np.append(np.ones(inputs.shape), inputs, axis = 1)           #We are adding a row of ones to represent the \"bias\" of the model. \n",
    "Y = np.array([5.1, 6.1, 6.9, 7.8, 9.2, 9.9, 11.5, 12, 12.8])\n",
    "Y = np.expand_dims(Y, -1)\n",
    "\n",
    "lr = 0.01\n",
    "epochs = 1000\n",
    "\n",
    "W = np.random.randn(2, 1)         #Dimension 2 to accomodate both weight and bias "
   ],
   "outputs": [],
   "metadata": {}
  },
  {
   "cell_type": "code",
   "execution_count": 3,
   "source": [
    "Y"
   ],
   "outputs": [
    {
     "output_type": "execute_result",
     "data": {
      "text/plain": [
       "array([[ 5.1],\n",
       "       [ 6.1],\n",
       "       [ 6.9],\n",
       "       [ 7.8],\n",
       "       [ 9.2],\n",
       "       [ 9.9],\n",
       "       [11.5],\n",
       "       [12. ],\n",
       "       [12.8]])"
      ]
     },
     "metadata": {},
     "execution_count": 3
    }
   ],
   "metadata": {}
  },
  {
   "cell_type": "code",
   "execution_count": 4,
   "source": [
    "X.dot(W)"
   ],
   "outputs": [
    {
     "output_type": "execute_result",
     "data": {
      "text/plain": [
       "array([[-2.75842905],\n",
       "       [-3.31850355],\n",
       "       [-3.87857804],\n",
       "       [-4.43865254],\n",
       "       [-4.99872704],\n",
       "       [-5.55880154],\n",
       "       [-6.11887604],\n",
       "       [-6.67895053],\n",
       "       [-7.23902503]])"
      ]
     },
     "metadata": {},
     "execution_count": 4
    }
   ],
   "metadata": {}
  },
  {
   "cell_type": "code",
   "execution_count": 5,
   "source": [
    "def gradient_descent(X, Y, W, lr):\n",
    "    Y_hat = X.dot(W) \n",
    "    J = MSE(Y, Y_hat)\n",
    "    n = len(X) \n",
    "    dW = (2/n)*X.T.dot(Y - Y_hat)\n",
    "\n",
    "    W += lr*dW \n",
    "    return W, J"
   ],
   "outputs": [],
   "metadata": {}
  },
  {
   "cell_type": "code",
   "execution_count": 6,
   "source": [
    "lossHist_gradient_descent = [] \n",
    "weightHist_gradient_descent = []\n",
    "for epoch in range(epochs): \n",
    "    W, J = gradient_descent(X, Y, W, lr) \n",
    "    lossHist_gradient_descent.append(J) \n",
    "    weightHist_gradient_descent.append(W.copy())"
   ],
   "outputs": [],
   "metadata": {}
  },
  {
   "cell_type": "code",
   "execution_count": 7,
   "source": [
    "plt.plot(lossHist_gradient_descent)"
   ],
   "outputs": [
    {
     "output_type": "execute_result",
     "data": {
      "text/plain": [
       "[<matplotlib.lines.Line2D at 0x7f17a48cb210>]"
      ]
     },
     "metadata": {},
     "execution_count": 7
    },
    {
     "output_type": "display_data",
     "data": {
      "image/png": "[encoded data removed]",
      "text/plain": [
       "<Figure size 432x288 with 1 Axes>"
      ]
     },
     "metadata": {
      "needs_background": "light"
     }
    }
   ],
   "metadata": {}
  },
  {
   "cell_type": "code",
   "execution_count": 8,
   "source": [
    "plt.scatter(inputs, Y) \n",
    "plt.plot(inputs, X.dot(W)) \n",
    "plt.show()"
   ],
   "outputs": [
    {
     "output_type": "display_data",
     "data": {
      "image/png": "[encoded data removed]",
      "text/plain": [
       "<Figure size 432x288 with 1 Axes>"
      ]
     },
     "metadata": {
      "needs_background": "light"
     }
    }
   ],
   "metadata": {}
  },
  {
   "cell_type": "code",
   "execution_count": 9,
   "source": [
    "def stochastic_gradient_descent(X, Y, W, lr): \n",
    "    n = len(X) \n",
    "    shuffle_n = np.random.permutation(n)\n",
    "    dW = np.zeros(W.shape) \n",
    "\n",
    "    for i in shuffle_n: \n",
    "        x = np.expand_dims(X[i].copy(), -1)\n",
    "        y_hat = x.T.dot(W)    \n",
    "        dW = -x.dot(Y[i] - y_hat)*2/n\n",
    "        W -= lr*dW\n",
    "\n",
    "    J = MSE(Y, X.dot(W))\n",
    "    # n = len(X) \n",
    "    return W, J"
   ],
   "outputs": [],
   "metadata": {}
  },
  {
   "cell_type": "code",
   "execution_count": 10,
   "source": [
    "W_sgd = np.random.randn(2, 1)\n",
    "lossHist_sgd = [] \n",
    "weightHist_sgd = []\n",
    "for epoch in range(epochs): \n",
    "    W_sgd, J = stochastic_gradient_descent(X, Y, W_sgd, lr) \n",
    "    lossHist_sgd.append(J) \n",
    "    weightHist_sgd.append(W_sgd.copy())"
   ],
   "outputs": [],
   "metadata": {}
  },
  {
   "cell_type": "code",
   "execution_count": 12,
   "source": [
    "plt.figure(figsize = (10, 10))\n",
    "plt.plot(lossHist_sgd[:100], label = \"SGD\")\n",
    "plt.plot(lossHist_gradient_descent[:100], label = \"GD\")\n",
    "plt.legend()\n",
    "plt.show()"
   ],
   "outputs": [
    {
     "output_type": "display_data",
     "data": {
      "image/png": "[encoded data removed]",
      "text/plain": [
       "<Figure size 720x720 with 1 Axes>"
      ]
     },
     "metadata": {
      "needs_background": "light"
     }
    }
   ],
   "metadata": {}
  },
  {
   "cell_type": "code",
   "execution_count": null,
   "source": [],
   "outputs": [],
   "metadata": {}
  }
 ],
 "metadata": {
  "orig_nbformat": 4,
  "language_info": {
   "name": "python",
   "version": "3.7.11",
   "mimetype": "text/x-python",
   "codemirror_mode": {
    "name": "ipython",
    "version": 3
   },
   "pygments_lexer": "ipython3",
   "nbconvert_exporter": "python",
   "file_extension": ".py"
  },
  "kernelspec": {
   "name": "python3",
   "display_name": "Python 3.7.11 64-bit ('machine_learning': conda)"
  },
  "interpreter": {
   "hash": "125fb9edb0687e7e40649f3d4ac076ed8f6387ce59a5df80ec89338b2a4e9129"
  }
 },
 "nbformat": 4,
 "nbformat_minor": 2
}