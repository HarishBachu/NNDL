{
 "cells": [
  {
   "cell_type": "markdown",
   "source": [
    "### Q.1. Write python code from scratch for simple Linear Regression problem, the ###following training data are given.\n",
    "###      X = [2,  2.5, 3, 3.5, 4, 4.5, 5, 5.5, 6]\n",
    "###      Y = [5.1, 6.1, 6.9, 7.8, 9.2, 9.9, 11.5, 12, 12.8]\n",
    "### The model Y as a linear function of X \n",
    "### (a) Use batch gradient descent learning algorithm to learn model parameters for α = 0.01 choose random values of weights and bias and epochs=1000.  Use MSE as loss function with an appropriate convergence criterion. \n",
    "### (b) Plot cost function (J) for the learning duration \n",
    "### (c) plot the regression line  \n",
    "### (d) repeat (b) to (c) for stochastic gradient descent  and Adam optimization algorithm \n",
    "### (e) Plot comparative loss curve\n"
   ],
   "metadata": {}
  },
  {
   "cell_type": "code",
   "execution_count": 1,
   "source": [
    "import numpy as np \n",
    "import matplotlib.pyplot as plt \n",
    "\n",
    "from losses import MSE \n",
    "\n",
    "plt.style.use(\"ggplot\") \n",
    "%matplotlib inline "
   ],
   "outputs": [],
   "metadata": {}
  },
  {
   "cell_type": "code",
   "execution_count": 2,
   "source": [
    "inputs = np.array([2, 2.5, 3, 3.5, 4, 4.5, 5, 5.5, 6])\n",
    "inputs = np.expand_dims(inputs, -1) \n",
    "X = np.append(np.ones(inputs.shape), inputs, axis = 1)           #We are adding a row of ones to represent the \"bias\" of the model. \n",
    "Y = np.array([5.1, 6.1, 6.9, 7.8, 9.2, 9.9, 11.5, 12, 12.8])\n",
    "Y = np.expand_dims(Y, -1)\n",
    "\n",
    "lr = 0.01\n",
    "epochs = 1000\n",
    "\n",
    "W = np.random.randn(2, 1)         #Dimension 2 to accomodate both weight and bias "
   ],
   "outputs": [],
   "metadata": {}
  },
  {
   "cell_type": "code",
   "execution_count": 3,
   "source": [
    "Y"
   ],
   "outputs": [
    {
     "output_type": "execute_result",
     "data": {
      "text/plain": [
       "array([[ 5.1],\n",
       "       [ 6.1],\n",
       "       [ 6.9],\n",
       "       [ 7.8],\n",
       "       [ 9.2],\n",
       "       [ 9.9],\n",
       "       [11.5],\n",
       "       [12. ],\n",
       "       [12.8]])"
      ]
     },
     "metadata": {},
     "execution_count": 3
    }
   ],
   "metadata": {}
  },
  {
   "cell_type": "code",
   "execution_count": 4,
   "source": [
    "X.dot(W)"
   ],
   "outputs": [
    {
     "output_type": "execute_result",
     "data": {
      "text/plain": [
       "array([[-2.97781154e-03],\n",
       "       [-4.35413386e-01],\n",
       "       [-8.67848960e-01],\n",
       "       [-1.30028453e+00],\n",
       "       [-1.73272011e+00],\n",
       "       [-2.16515568e+00],\n",
       "       [-2.59759126e+00],\n",
       "       [-3.03002683e+00],\n",
       "       [-3.46246240e+00]])"
      ]
     },
     "metadata": {},
     "execution_count": 4
    }
   ],
   "metadata": {}
  },
  {
   "cell_type": "code",
   "execution_count": 5,
   "source": [
    "def gradient_descent(X, Y, W, lr):\n",
    "    Y_hat = X.dot(W) \n",
    "    J = MSE(Y, Y_hat)\n",
    "    n = len(X) \n",
    "    dW = (2/n)*X.T.dot(Y - Y_hat)\n",
    "\n",
    "    W += lr*dW \n",
    "    return W, J"
   ],
   "outputs": [],
   "metadata": {}
  },
  {
   "cell_type": "code",
   "execution_count": 6,
   "source": [
    "lossHist_gradient_descent = [] \n",
    "weightHist_gradient_descent = []\n",
    "for epoch in range(epochs): \n",
    "    W, J = gradient_descent(X, Y, W, lr) \n",
    "    lossHist_gradient_descent.append(J) \n",
    "    weightHist_gradient_descent.append(W.copy())"
   ],
   "outputs": [],
   "metadata": {}
  },
  {
   "cell_type": "code",
   "execution_count": 7,
   "source": [
    "plt.plot(lossHist_gradient_descent)"
   ],
   "outputs": [
    {
     "output_type": "execute_result",
     "data": {
      "text/plain": [
       "[<matplotlib.lines.Line2D at 0x7fd174209490>]"
      ]
     },
     "metadata": {},
     "execution_count": 7
    },
    {
     "output_type": "display_data",
     "data": {
      "image/png": "[encoded data removed]",
      "text/plain": [
       "<Figure size 432x288 with 1 Axes>"
      ]
     },
     "metadata": {
      "needs_background": "light"
     }
    }
   ],
   "metadata": {}
  },
  {
   "cell_type": "code",
   "execution_count": 8,
   "source": [
    "plt.scatter(inputs, Y) \n",
    "plt.plot(inputs, X.dot(W)) \n",
    "plt.show()"
   ],
   "outputs": [
    {
     "output_type": "display_data",
     "data": {
      "image/png": "[encoded data removed]",
      "text/plain": [
       "<Figure size 432x288 with 1 Axes>"
      ]
     },
     "metadata": {
      "needs_background": "light"
     }
    }
   ],
   "metadata": {}
  },
  {
   "cell_type": "code",
   "execution_count": 9,
   "source": [
    "adam_params = {\n",
    "    \"S_dW\" : np.zeros(W.shape), \n",
    "    \"V_dW\" : np.zeros(W.shape), \n",
    "    \"beta_1\" : 0.9, \n",
    "    \"beta_2\": 0.999, \n",
    "    \"epsilon\" : 10e-8 \n",
    "}\n",
    "\n",
    "def adam_gd(X, Y, W, adam_params, lr): \n",
    "    \n",
    "    n = len(X)\n",
    "\n",
    "    S_dW = adam_params[\"S_dW\"]\n",
    "    V_dW = adam_params[\"V_dW\"] \n",
    "    beta_1 = adam_params[\"beta_1\"]\n",
    "    beta_2 = adam_params[\"beta_2\"] \n",
    "    eps = adam_params[\"epsilon\"] \n",
    "\n",
    "    n = len(X) \n",
    "    dW = (2/n)*X.T.dot(Y - X.dot(W))\n",
    "    \n",
    "    V_dW = beta_1*V_dW + (1-beta_1)*dW \n",
    "    S_dW = beta_2*S_dW + (1-beta_2)*np.square(dW) \n",
    "    \n",
    "    W += lr*V_dW/(np.sqrt(S_dW) + eps) \n",
    "\n",
    "    Y_hat = X.dot(W) \n",
    "    J = MSE(Y, Y_hat)\n",
    "\n",
    "    adam_params[\"S_dW\"] = S_dW \n",
    "    adam_params[\"V_dW\"] = V_dW\n",
    "\n",
    "    return W, J, adam_params\n",
    "\n",
    "\n",
    "def stochastic_gradient_descent(X, Y, W, lr): \n",
    "    n = len(X) \n",
    "    shuffle_n = np.random.permutation(n)\n",
    "    dW = np.zeros(W.shape) \n",
    "\n",
    "    for i in shuffle_n: \n",
    "        x = np.expand_dims(X[i].copy(), -1)\n",
    "        y_hat = x.T.dot(W)    \n",
    "        dW = -x.dot(Y[i] - y_hat)*2/n \n",
    "        W -= lr*dW \n",
    "\n",
    "    J = MSE(Y, X.dot(W)) \n",
    "    # n = len(X) \n",
    "    return W, J"
   ],
   "outputs": [],
   "metadata": {}
  },
  {
   "cell_type": "code",
   "execution_count": 10,
   "source": [
    "W_sgd = np.random.randn(2, 1)\n",
    "lossHist_sgd = [] \n",
    "weightHist_sgd = []\n",
    "for epoch in range(epochs): \n",
    "    W_sgd, J= stochastic_gradient_descent(X, Y, W_sgd, lr) \n",
    "    lossHist_sgd.append(J) \n",
    "    weightHist_sgd.append(W_sgd.copy())\n",
    "\n",
    "\n",
    "W_adam_gd = np.random.randn(2, 1) \n",
    "lossHist_adam = []\n",
    "weightHist_adam = [] \n",
    "for epoch in range(epochs):\n",
    "    W_adam_gd, j, adam_params = adam_gd(X, Y, W_adam_gd, adam_params, lr) \n",
    "    lossHist_adam.append(j) \n",
    "    weightHist_adam.append(W_adam_gd.copy())"
   ],
   "outputs": [],
   "metadata": {}
  },
  {
   "cell_type": "code",
   "execution_count": 11,
   "source": [
    "plt.figure(figsize = (10, 10))\n",
    "plt.plot(lossHist_sgd[:100], label = \"SGD\")\n",
    "plt.plot(lossHist_gradient_descent[:100], label = \"GD\")\n",
    "plt.plot(lossHist_adam[:100], label = \"Adam\")\n",
    "plt.legend()\n",
    "plt.show()"
   ],
   "outputs": [
    {
     "output_type": "display_data",
     "data": {
      "image/png": "[encoded data removed]",
      "text/plain": [
       "<Figure size 720x720 with 1 Axes>"
      ]
     },
     "metadata": {
      "needs_background": "light"
     }
    }
   ],
   "metadata": {}
  },
  {
   "cell_type": "code",
   "execution_count": null,
   "source": [],
   "outputs": [],
   "metadata": {}
  }
 ],
 "metadata": {
  "orig_nbformat": 4,
  "language_info": {
   "name": "python",
   "version": "3.7.11",
   "mimetype": "text/x-python",
   "codemirror_mode": {
    "name": "ipython",
    "version": 3
   },
   "pygments_lexer": "ipython3",
   "nbconvert_exporter": "python",
   "file_extension": ".py"
  },
  "kernelspec": {
   "name": "python3",
   "display_name": "Python 3.7.11 64-bit ('machine_learning': conda)"
  },
  "interpreter": {
   "hash": "125fb9edb0687e7e40649f3d4ac076ed8f6387ce59a5df80ec89338b2a4e9129"
  }
 },
 "nbformat": 4,
 "nbformat_minor": 2
}