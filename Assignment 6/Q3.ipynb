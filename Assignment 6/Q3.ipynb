{
 "cells": [
  {
   "cell_type": "markdown",
   "metadata": {},
   "source": [
    "### Q.3. Implement FCN8 model using Keras/Tensorflow library for Building footprint segmentation from aerial remote sensing images \n",
    "\n",
    "#### <a>https://github.com/menvuthy/building-footprint-dataset</a> \n",
    "#### For implementation, split dataset into training dataset (80%) and testing dataset (20%) ). Use a Adam gradient descent algorithm to learn model with parameters for α = 0.01 and random parameters of the CNN model for Dice Loss function. For better training performance, you can use batch-normalization and dropout if necessary.\n",
    "\n",
    "#### (i)Plot a comparative loss curve for at least 50 epochs. \n",
    "#### (ii) Print confusion matrix, calculate overall as well as classwise classification metrics such as bulding and Background accuracy, Segmentation Accuracy, Dice Coefficient, IoU) on test dataset."
   ]
  },
  {
   "cell_type": "code",
   "execution_count": null,
   "metadata": {},
   "outputs": [],
   "source": [
    "import numpy as np \n",
    "import cv2 \n",
    "\n",
    "import seaborn as sns \n",
    "from matplotlib import pyplot as plt \n",
    "\n",
    "import tensorflow as tf \n",
    "from tensorflow.keras import models, layers \n",
    "\n",
    "import os \n",
    "from tqdm import *\n",
    "import pandas as pd "
   ]
  }
 ],
 "metadata": {
  "interpreter": {
   "hash": "c7c35552e60c1ac69f0dd701e90986b079e95451a6e5a80cc7b54833626a53a5"
  },
  "kernelspec": {
   "display_name": "Python 3.8.11 64-bit ('machine_learning': conda)",
   "language": "python",
   "name": "python3"
  },
  "language_info": {
   "name": "python",
   "version": "3.8.11"
  },
  "orig_nbformat": 4
 },
 "nbformat": 4,
 "nbformat_minor": 2
}
